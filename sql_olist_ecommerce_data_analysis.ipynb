{
  "cells": [
    {
      "cell_type": "markdown",
      "id": "35a14ff9",
      "metadata": {
        "papermill": {
          "duration": 0.059728,
          "end_time": "2024-04-29T15:32:03.074618",
          "exception": false,
          "start_time": "2024-04-29T15:32:03.014890",
          "status": "completed"
        },
        "tags": [],
        "id": "35a14ff9"
      },
      "source": [
        "# Análise de Dados do E-commerce Olist com SQL e Python\n",
        "\n",
        "Olá! meu nome é Matheus Lourenço\n",
        "\n",
        "Neste projeto, exploro como o SQL pode ser usado de forma eficiente para análise de dados, enquanto o Python entra em cena apenas para visualização e storytelling.\n",
        "\n",
        "O conjunto de dados utilizado vem da Olist (https://www.kaggle.com/datasets/olistbr/brazilian-ecommerce), uma plataforma brasileira de e-commerce que conecta pequenos lojistas a grandes marketplaces. O dataset inclui mais de 99 mil pedidos realizados entre 2016 e 2018, oferecendo uma base rica para descobrir padrões de vendas, comportamento do cliente e eficiência logística.\n",
        "\n",
        "Os arquivos CSV originais foram importados para um banco de dados SQLite, onde realizei todo o processo de limpeza, transformação e análise diretamente em SQL. Em seguida, usei Python para criar visualizações que traduzem os resultados em insights visuais e estratégicos."
      ]
    },
    {
      "cell_type": "markdown",
      "id": "2d744164",
      "metadata": {
        "papermill": {
          "duration": 0.063241,
          "end_time": "2024-04-29T15:32:03.203380",
          "exception": false,
          "start_time": "2024-04-29T15:32:03.140139",
          "status": "completed"
        },
        "tags": [],
        "id": "2d744164"
      },
      "source": [
        "## Conectando ao Banco de Dados\n",
        "\n",
        "O SQLite é uma opção bem prática.\n",
        "Ele vai armazenar todo o banco em um único arquivo e não precisa de servidor ativo em segundo plano.\n",
        "Usando a biblioteca sqlite3, é possível acessar e consultar os dados diretamente pelo Python."
      ]
    },
    {
      "cell_type": "code",
      "source": [
        "import pandas as pd\n",
        "import sqlite3\n",
        "import os\n",
        "\n",
        "# Conectar/criar o banco\n",
        "conn = sqlite3.connect('/content/olist.sqlite')\n",
        "\n",
        "# Lista de CSVs e nomes das tabelas\n",
        "csv_files = {\n",
        "    \"customers\": \"olist_customers_dataset.csv\",\n",
        "    \"geolocation\": \"olist_geolocation_dataset.csv\",\n",
        "    \"order_items\": \"olist_order_items_dataset.csv\",\n",
        "    \"order_payments\": \"olist_order_payments_dataset.csv\",\n",
        "    \"order_reviews\": \"olist_order_reviews_dataset.csv\",\n",
        "    \"orders\": \"olist_orders_dataset.csv\",\n",
        "    \"products\": \"olist_products_dataset.csv\",\n",
        "    \"sellers\": \"olist_sellers_dataset.csv\",\n",
        "    \"category_translation\": \"product_category_name_translation.csv\"\n",
        "}\n",
        "\n",
        "# Carregando cada CSV e salvar no banco SQLite\n",
        "for table_name, file_name in csv_files.items():\n",
        "    df = pd.read_csv(f\"/content/{file_name}\")\n",
        "    df.to_sql(table_name, conn, if_exists='replace', index=False)\n",
        "    print(f\"Tabela '{table_name}' criada com {len(df)} registros.\")\n",
        "\n",
        "# Confirmando as tabelas criadas\n",
        "tables = pd.read_sql_query(\"SELECT name FROM sqlite_master WHERE type='table';\", conn)\n",
        "print(\"\\nTabelas disponíveis no banco:\")\n",
        "print(tables)\n",
        "\n"
      ],
      "metadata": {
        "id": "MEx7P7W3T2FZ"
      },
      "id": "MEx7P7W3T2FZ",
      "execution_count": null,
      "outputs": []
    },
    {
      "cell_type": "markdown",
      "id": "ac8806f4",
      "metadata": {
        "papermill": {
          "duration": 0.064265,
          "end_time": "2024-04-29T15:32:03.511979",
          "exception": false,
          "start_time": "2024-04-29T15:32:03.447714",
          "status": "completed"
        },
        "tags": [],
        "id": "ac8806f4"
      },
      "source": [
        "Para consultar o banco de dados, basta escrever a query SQL como uma string e passá-la para o 'pandas.read_sql_query', junto com a conexão do banco.\n",
        "O resultado é retornado em um DataFrame do pandas, facilitando a análise e visualização dos dados.\n",
        "\n",
        "Ao longo deste notebook, utilizaremos a seguinte função para explorar as tabelas do banco de dados de forma simples e direta:"
      ]
    },
    {
      "cell_type": "code",
      "source": [
        "import pandas as pd\n",
        "\n",
        "def view_table(table, limit=5):\n",
        "    query = f\"\"\"\n",
        "        SELECT *\n",
        "        FROM {table}\n",
        "        LIMIT {limit}\n",
        "    \"\"\"\n",
        "    return pd.read_sql_query(query, conn)\n",
        "\n",
        "# visualizar as 5 primeiras linhas da tabela 'orders'\n",
        "view_table('orders')"
      ],
      "metadata": {
        "id": "-6B0eOyvU75r"
      },
      "id": "-6B0eOyvU75r",
      "execution_count": null,
      "outputs": []
    },
    {
      "cell_type": "markdown",
      "id": "0f1ec245",
      "metadata": {
        "papermill": {
          "duration": 0.059585,
          "end_time": "2024-04-29T15:32:05.335809",
          "exception": false,
          "start_time": "2024-04-29T15:32:05.276224",
          "status": "completed"
        },
        "tags": [],
        "id": "0f1ec245"
      },
      "source": [
        "# Número de Pedidos\n",
        "A tabela 'orders' reúne os IDs de pedidos e clientes, além do status de entrega, que pode ser “delivered” ou outros estados anteriores à entrega."
      ]
    },
    {
      "cell_type": "code",
      "execution_count": null,
      "id": "4abbb942",
      "metadata": {
        "execution": {
          "iopub.execute_input": "2024-04-29T15:32:05.459784Z",
          "iopub.status.busy": "2024-04-29T15:32:05.458965Z",
          "iopub.status.idle": "2024-04-29T15:32:05.505510Z",
          "shell.execute_reply": "2024-04-29T15:32:05.503969Z"
        },
        "papermill": {
          "duration": 0.113687,
          "end_time": "2024-04-29T15:32:05.510128",
          "exception": false,
          "start_time": "2024-04-29T15:32:05.396441",
          "status": "completed"
        },
        "tags": [],
        "id": "4abbb942"
      },
      "outputs": [],
      "source": [
        "# Tabela de pedidos, mostrando as 3 primeiras colunas\n",
        "view_table('orders', 5).iloc[:, :3]"
      ]
    },
    {
      "cell_type": "markdown",
      "id": "815b5fe7",
      "metadata": {
        "papermill": {
          "duration": 0.060165,
          "end_time": "2024-04-29T15:32:05.636939",
          "exception": false,
          "start_time": "2024-04-29T15:32:05.576774",
          "status": "completed"
        },
        "tags": [],
        "id": "815b5fe7"
      },
      "source": [
        "As próximas colunas mostram os horários das mudanças de status do pedido e, por último, a data estimada de entrega"
      ]
    },
    {
      "cell_type": "markdown",
      "source": [],
      "metadata": {
        "id": "5WJ8Wcl6VagN"
      },
      "id": "5WJ8Wcl6VagN"
    },
    {
      "cell_type": "code",
      "execution_count": null,
      "id": "36f3b790",
      "metadata": {
        "execution": {
          "iopub.execute_input": "2024-04-29T15:32:05.778065Z",
          "iopub.status.busy": "2024-04-29T15:32:05.777177Z",
          "iopub.status.idle": "2024-04-29T15:32:05.801911Z",
          "shell.execute_reply": "2024-04-29T15:32:05.799952Z"
        },
        "papermill": {
          "duration": 0.100149,
          "end_time": "2024-04-29T15:32:05.806891",
          "exception": false,
          "start_time": "2024-04-29T15:32:05.706742",
          "status": "completed"
        },
        "tags": [],
        "id": "36f3b790"
      },
      "outputs": [],
      "source": [
        "# resto das colunas\n",
        "view_table('orders', 5).iloc[:, 3:]"
      ]
    },
    {
      "cell_type": "code",
      "execution_count": null,
      "id": "92d97ace",
      "metadata": {
        "execution": {
          "iopub.execute_input": "2024-04-29T15:32:06.061326Z",
          "iopub.status.busy": "2024-04-29T15:32:06.060196Z",
          "iopub.status.idle": "2024-04-29T15:32:06.517465Z",
          "shell.execute_reply": "2024-04-29T15:32:06.516031Z"
        },
        "papermill": {
          "duration": 0.525127,
          "end_time": "2024-04-29T15:32:06.520462",
          "exception": false,
          "start_time": "2024-04-29T15:32:05.995335",
          "status": "completed"
        },
        "tags": [],
        "id": "92d97ace"
      },
      "outputs": [],
      "source": [
        "# Contagem de pedidos por dia\n",
        "orders_per_day = \"\"\"\n",
        "SELECT\n",
        "    DATE(order_purchase_timestamp) AS day,\n",
        "    COUNT(*) AS order_count\n",
        "FROM orders\n",
        "GROUP BY day\n",
        "ORDER BY day\n",
        "\"\"\"\n",
        "\n",
        "df = pd.read_sql_query(orders_per_day, conn)\n",
        "df.head(5)"
      ]
    },
    {
      "cell_type": "markdown",
      "id": "b019320d",
      "metadata": {
        "papermill": {
          "duration": 0.06615,
          "end_time": "2024-04-29T15:32:06.654671",
          "exception": false,
          "start_time": "2024-04-29T15:32:06.588521",
          "status": "completed"
        },
        "tags": [],
        "id": "b019320d"
      },
      "source": [
        "No resultado anterior, podemos ver que os primeiros dias possuem poucos pedidos. Vamos usar o Matplotlib para visualizar a frequência de pedidos por dia:"
      ]
    },
    {
      "cell_type": "code",
      "execution_count": null,
      "id": "fc3bbe53",
      "metadata": {
        "execution": {
          "iopub.execute_input": "2024-04-29T15:32:06.800943Z",
          "iopub.status.busy": "2024-04-29T15:32:06.799645Z",
          "iopub.status.idle": "2024-04-29T15:32:07.753765Z",
          "shell.execute_reply": "2024-04-29T15:32:07.751451Z"
        },
        "papermill": {
          "duration": 1.028137,
          "end_time": "2024-04-29T15:32:07.757358",
          "exception": false,
          "start_time": "2024-04-29T15:32:06.729221",
          "status": "completed"
        },
        "tags": [],
        "id": "fc3bbe53"
      },
      "outputs": [],
      "source": [
        "import matplotlib.pyplot as plt\n",
        "import matplotlib.dates as mdates\n",
        "\n",
        "# Aumento do tamanho da fonte\n",
        "plt.rcParams['font.size'] = 12\n",
        "plt.rcParams['axes.titlesize'] = 16\n",
        "\n",
        "# Plotando o gráfico de linha\n",
        "plt.figure(figsize=(14, 6))\n",
        "plt.plot(pd.to_datetime(df['day']), df['order_count'], color='green')\n",
        "plt.ylabel('Número de pedidos')\n",
        "plt.title('Número de pedidos por dia')\n",
        "plt.gca().xaxis.set_major_locator(mdates.MonthLocator())\n",
        "plt.xticks(rotation=45)\n",
        "plt.show()"
      ]
    },
    {
      "cell_type": "markdown",
      "id": "f4309855",
      "metadata": {
        "papermill": {
          "duration": 0.055149,
          "end_time": "2024-04-29T15:32:07.873127",
          "exception": false,
          "start_time": "2024-04-29T15:32:07.817978",
          "status": "completed"
        },
        "tags": [],
        "id": "f4309855"
      },
      "source": [
        "Pode-se perceber um pico de pedidos próximo ao Natal, especialmente em 24 de dezembro. Também há um crescimento constante nas vendas ao longo do tempo, refletindo a expansão da Olist. Como o início e o fim do período têm poucos dados, essas datas serão ignoradas nas próximas análises."
      ]
    },
    {
      "cell_type": "markdown",
      "id": "b2450277",
      "metadata": {
        "papermill": {
          "duration": 0.053491,
          "end_time": "2024-04-29T15:32:07.982701",
          "exception": false,
          "start_time": "2024-04-29T15:32:07.929210",
          "status": "completed"
        },
        "tags": [],
        "id": "b2450277"
      },
      "source": [
        "Agora, vamos investigar quando os pedidos acontecem — por dia da semana e hora do dia — criando um mapa de calor que mostra o volume de pedidos ao longo da semana e das horas. Para isso, extrairemos o dia da semana e a hora do pedido usando a função STRFTIME."
      ]
    },
    {
      "cell_type": "code",
      "execution_count": null,
      "id": "a0178b06",
      "metadata": {
        "execution": {
          "iopub.execute_input": "2024-04-29T15:32:08.102071Z",
          "iopub.status.busy": "2024-04-29T15:32:08.101611Z",
          "iopub.status.idle": "2024-04-29T15:32:08.929205Z",
          "shell.execute_reply": "2024-04-29T15:32:08.927514Z"
        },
        "papermill": {
          "duration": 0.895316,
          "end_time": "2024-04-29T15:32:08.932065",
          "exception": false,
          "start_time": "2024-04-29T15:32:08.036749",
          "status": "completed"
        },
        "tags": [],
        "id": "a0178b06"
      },
      "outputs": [],
      "source": [
        "order_day_hour = \"\"\"\n",
        "SELECT\n",
        "    -- dia da semana abreviado\n",
        "    CASE STRFTIME('%w', order_purchase_timestamp)\n",
        "        WHEN '1' THEN 'Mon'\n",
        "        WHEN '2' THEN 'Tue'\n",
        "        WHEN '3' THEN 'Wed'\n",
        "        WHEN '4' THEN 'Thu'\n",
        "        WHEN '5' THEN 'Fri'\n",
        "        WHEN '6' THEN 'Sat'\n",
        "        WHEN '0' THEN 'Sun'\n",
        "        END AS day_of_week_name,\n",
        "    -- dia da semana como um inteiro (Sunday=7)\n",
        "    CAST(STRFTIME('%w', order_purchase_timestamp) AS INTEGER) AS day_of_week_int,\n",
        "    -- Hour of the day (0-24)\n",
        "    CAST(STRFTIME(\"%H\", order_purchase_timestamp) AS INTEGER) AS hour\n",
        "FROM orders\n",
        "\"\"\"\n",
        "\n",
        "pd.read_sql_query(order_day_hour, conn)"
      ]
    },
    {
      "cell_type": "markdown",
      "id": "4dd99b5a",
      "metadata": {
        "papermill": {
          "duration": 0.057895,
          "end_time": "2024-04-29T15:32:09.041987",
          "exception": false,
          "start_time": "2024-04-29T15:32:08.984092",
          "status": "completed"
        },
        "tags": [],
        "id": "4dd99b5a"
      },
      "source": [
        "Usamos uma 'list comprehension' em Python para gerar automaticamente a contagem de pedidos por hora, sem precisar escrever 24 linhas manuais. A consulta anterior é reaproveitada como uma subconsulta temporária para facilitar a análise."
      ]
    },
    {
      "cell_type": "code",
      "execution_count": null,
      "id": "e2463593",
      "metadata": {
        "execution": {
          "iopub.execute_input": "2024-04-29T15:32:09.162465Z",
          "iopub.status.busy": "2024-04-29T15:32:09.161388Z",
          "iopub.status.idle": "2024-04-29T15:32:09.171534Z",
          "shell.execute_reply": "2024-04-29T15:32:09.169222Z"
        },
        "papermill": {
          "duration": 0.076795,
          "end_time": "2024-04-29T15:32:09.174231",
          "exception": false,
          "start_time": "2024-04-29T15:32:09.097436",
          "status": "completed"
        },
        "tags": [],
        "id": "e2463593"
      },
      "outputs": [],
      "source": [
        "count_orders_per_hour = ',\\n    '.join([\n",
        "    f'COUNT(CASE WHEN hour = {i} THEN 1 END) AS \"{i}\"' \\\n",
        "    for i in range(24)\n",
        "])\n",
        "\n",
        "orders_per_day_of_the_week_and_hour = f\"\"\"\n",
        "WITH OrderDayHour AS (\n",
        "    {order_day_hour}\n",
        ")\n",
        "SELECT\n",
        "    day_of_week_name,\n",
        "    {count_orders_per_hour}\n",
        "FROM OrderDayHour\n",
        "GROUP BY day_of_week_int\n",
        "ORDER BY day_of_week_int\n",
        "\"\"\""
      ]
    },
    {
      "cell_type": "code",
      "execution_count": null,
      "id": "cb8ceae8",
      "metadata": {
        "execution": {
          "iopub.execute_input": "2024-04-29T15:32:09.411328Z",
          "iopub.status.busy": "2024-04-29T15:32:09.410665Z",
          "iopub.status.idle": "2024-04-29T15:32:09.421276Z",
          "shell.execute_reply": "2024-04-29T15:32:09.419561Z"
        },
        "papermill": {
          "duration": 0.071734,
          "end_time": "2024-04-29T15:32:09.424471",
          "exception": false,
          "start_time": "2024-04-29T15:32:09.352737",
          "status": "completed"
        },
        "tags": [],
        "id": "cb8ceae8"
      },
      "outputs": [],
      "source": [
        "# SQL query sem uma subconsulta temporária\n",
        "print(orders_per_day_of_the_week_and_hour[591:])"
      ]
    },
    {
      "cell_type": "markdown",
      "id": "fa0668a9",
      "metadata": {
        "papermill": {
          "duration": 0.0543,
          "end_time": "2024-04-29T15:32:09.542851",
          "exception": false,
          "start_time": "2024-04-29T15:32:09.488551",
          "status": "completed"
        },
        "tags": [],
        "id": "fa0668a9"
      },
      "source": [
        "Depois de executar a consulta, precisamos apenas definir a coluna 'day_of_the_week_name' como o índice do dataframe para obter a matriz necessária para construir o mapa de calor:"
      ]
    },
    {
      "cell_type": "code",
      "execution_count": null,
      "id": "cc176a0a",
      "metadata": {
        "execution": {
          "iopub.execute_input": "2024-04-29T15:32:09.659356Z",
          "iopub.status.busy": "2024-04-29T15:32:09.657063Z",
          "iopub.status.idle": "2024-04-29T15:32:11.355203Z",
          "shell.execute_reply": "2024-04-29T15:32:11.353252Z"
        },
        "papermill": {
          "duration": 1.760242,
          "end_time": "2024-04-29T15:32:11.358316",
          "exception": false,
          "start_time": "2024-04-29T15:32:09.598074",
          "status": "completed"
        },
        "tags": [],
        "id": "cc176a0a"
      },
      "outputs": [],
      "source": [
        "df = pd.read_sql_query(orders_per_day_of_the_week_and_hour, conn)\n",
        "df = df.set_index('day_of_week_name')\n",
        "df"
      ]
    },
    {
      "cell_type": "markdown",
      "id": "1e447b3e",
      "metadata": {
        "papermill": {
          "duration": 0.042461,
          "end_time": "2024-04-29T15:32:11.448055",
          "exception": false,
          "start_time": "2024-04-29T15:32:11.405594",
          "status": "completed"
        },
        "tags": [],
        "id": "1e447b3e"
      },
      "source": [
        "Podemos usar a biblioteca do python 'seaborn' para criar o mapa de calor:"
      ]
    },
    {
      "cell_type": "code",
      "execution_count": null,
      "id": "795c318e",
      "metadata": {
        "execution": {
          "iopub.execute_input": "2024-04-29T15:32:11.534132Z",
          "iopub.status.busy": "2024-04-29T15:32:11.533672Z",
          "iopub.status.idle": "2024-04-29T15:32:13.849364Z",
          "shell.execute_reply": "2024-04-29T15:32:13.848149Z"
        },
        "papermill": {
          "duration": 2.363343,
          "end_time": "2024-04-29T15:32:13.853001",
          "exception": false,
          "start_time": "2024-04-29T15:32:11.489658",
          "status": "completed"
        },
        "tags": [],
        "id": "795c318e"
      },
      "outputs": [],
      "source": [
        "import seaborn as sns\n",
        "\n",
        "fig, ax = plt.subplots(figsize=(14, 6))\n",
        "sns.heatmap(df, cmap='YlGnBu', cbar=False)\n",
        "media_orders = df.mean().mean()\n",
        "for i in range(len(df)):\n",
        "    for j in range(len(df.columns)):\n",
        "        text_color = 'white' if df.iloc[i, j] > media_orders else 'black'\n",
        "        ax.text(j+0.5, i+0.5, int(df.iloc[i, j]),\n",
        "            color=text_color, fontsize=10, ha=\"center\", va=\"center\")\n",
        "plt.title(\"Número de dias por dia da semana e pela hora do dia\")\n",
        "plt.xlabel(\"Hora do dia\")\n",
        "plt.ylabel(\"\")\n",
        "plt.show()"
      ]
    },
    {
      "cell_type": "markdown",
      "id": "3091051d",
      "metadata": {
        "papermill": {
          "duration": 0.046027,
          "end_time": "2024-04-29T15:32:14.035829",
          "exception": false,
          "start_time": "2024-04-29T15:32:13.989802",
          "status": "completed"
        },
        "tags": [],
        "id": "3091051d"
      },
      "source": [
        "Pode-se observar que a maioria dos pedidos foi feita em dias de semana, entre *10h e 16h*, com uma leve queda por volta do meio-dia (horário de almoço). Há também um aumento de pedidos à noite, por volta das 21h, de domingo a quinta-feira.\n",
        "\n",
        "O sábado é o dia com menos pedidos, embora ainda movimentado.\n",
        "Já o horário com menor atividade é entre 3h e 5h da manhã, mas ainda ocorrem algumas compras nesse período"
      ]
    },
    {
      "cell_type": "markdown",
      "source": [
        "Agora que analisamos a distribuição dos pedidos ao longo do tempo, vamos observar a distribuição geográfica.\n",
        "A tabela 'customers' contém o prefixo do CEP, cidade e estado de cada cliente.\n",
        "Vale notar que existem dois identificadores: 'customer_id '(relacionado ao pedido) e 'customer_unique_id', que representa o cliente único."
      ],
      "metadata": {
        "id": "WtdgKcIxeemx"
      },
      "id": "WtdgKcIxeemx"
    },
    {
      "cell_type": "code",
      "execution_count": null,
      "id": "faa08cad",
      "metadata": {
        "execution": {
          "iopub.execute_input": "2024-04-29T15:32:14.138226Z",
          "iopub.status.busy": "2024-04-29T15:32:14.137445Z",
          "iopub.status.idle": "2024-04-29T15:32:14.161601Z",
          "shell.execute_reply": "2024-04-29T15:32:14.160727Z"
        },
        "papermill": {
          "duration": 0.076115,
          "end_time": "2024-04-29T15:32:14.164247",
          "exception": false,
          "start_time": "2024-04-29T15:32:14.088132",
          "status": "completed"
        },
        "tags": [],
        "id": "faa08cad"
      },
      "outputs": [],
      "source": [
        "view_table('customers', 5)"
      ]
    },
    {
      "cell_type": "markdown",
      "id": "55d66e67",
      "metadata": {
        "papermill": {
          "duration": 0.046405,
          "end_time": "2024-04-29T15:32:14.258986",
          "exception": false,
          "start_time": "2024-04-29T15:32:14.212581",
          "status": "completed"
        },
        "tags": [],
        "id": "55d66e67"
      },
      "source": [
        "## Quais são as cidades com maior número de pedidos no conjunto de dados?\n",
        "\n",
        "\n",
        "Vamos criar uma query que retorna o top 10 dessas cidades. Para isso, faremos um JOIN entre as tabelas 'orders' e 'customers'."
      ]
    },
    {
      "cell_type": "code",
      "execution_count": null,
      "id": "08183ed3",
      "metadata": {
        "execution": {
          "iopub.execute_input": "2024-04-29T15:32:14.351676Z",
          "iopub.status.busy": "2024-04-29T15:32:14.350919Z",
          "iopub.status.idle": "2024-04-29T15:32:15.448229Z",
          "shell.execute_reply": "2024-04-29T15:32:15.447273Z"
        },
        "papermill": {
          "duration": 1.146289,
          "end_time": "2024-04-29T15:32:15.450674",
          "exception": false,
          "start_time": "2024-04-29T15:32:14.304385",
          "status": "completed"
        },
        "tags": [],
        "id": "08183ed3"
      },
      "outputs": [],
      "source": [
        "orders_per_city = \"\"\"\n",
        "SELECT\n",
        "    customer_city AS customer_city,\n",
        "    UPPER(customer_city) AS city,\n",
        "    COUNT(orders.order_id) AS city_order_count\n",
        "FROM\n",
        "    customers\n",
        "    JOIN orders USING (customer_id)\n",
        "GROUP BY customer_city\n",
        "ORDER BY city_order_count DESC\n",
        "LIMIT 10\n",
        "\"\"\"\n",
        "\n",
        "pd.read_sql_query(orders_per_city, conn)"
      ]
    },
    {
      "cell_type": "markdown",
      "id": "da71652a",
      "metadata": {
        "papermill": {
          "duration": 0.045711,
          "end_time": "2024-04-29T15:32:15.541966",
          "exception": false,
          "start_time": "2024-04-29T15:32:15.496255",
          "status": "completed"
        },
        "tags": [],
        "id": "da71652a"
      },
      "source": [
        "Vamos visualizar essas cidades em um gráfico de barras horizontais com o 'kind=barh'.\n",
        "Como a função barh do Matplotlib plota de baixo para cima, precisamos inverter a ordem dos resultados. Para isso, usaremos a query anterior como uma subquery no SQL."
      ]
    },
    {
      "cell_type": "code",
      "execution_count": null,
      "id": "27a2547b",
      "metadata": {
        "execution": {
          "iopub.execute_input": "2024-04-29T15:32:15.636295Z",
          "iopub.status.busy": "2024-04-29T15:32:15.635807Z",
          "iopub.status.idle": "2024-04-29T15:32:15.640676Z",
          "shell.execute_reply": "2024-04-29T15:32:15.639515Z"
        },
        "papermill": {
          "duration": 0.055098,
          "end_time": "2024-04-29T15:32:15.643157",
          "exception": false,
          "start_time": "2024-04-29T15:32:15.588059",
          "status": "completed"
        },
        "tags": [],
        "id": "27a2547b"
      },
      "outputs": [],
      "source": [
        "orders_per_city_reversed = f\"\"\"\n",
        "SELECT *\n",
        "FROM ({orders_per_city})\n",
        "ORDER BY city_order_count\n",
        "\"\"\""
      ]
    },
    {
      "cell_type": "code",
      "execution_count": null,
      "id": "e51caf90",
      "metadata": {
        "execution": {
          "iopub.execute_input": "2024-04-29T15:32:15.737140Z",
          "iopub.status.busy": "2024-04-29T15:32:15.736743Z",
          "iopub.status.idle": "2024-04-29T15:32:17.109293Z",
          "shell.execute_reply": "2024-04-29T15:32:17.108184Z"
        },
        "papermill": {
          "duration": 1.422504,
          "end_time": "2024-04-29T15:32:17.112393",
          "exception": false,
          "start_time": "2024-04-29T15:32:15.689889",
          "status": "completed"
        },
        "tags": [],
        "id": "e51caf90"
      },
      "outputs": [],
      "source": [
        "top10_cidades = pd.read_sql_query(orders_per_city_reversed, conn)\n",
        "\n",
        "plt.figure(figsize=(10, 6))\n",
        "plt.barh(top10_cidades['city'], top10_cidades['city_order_count'])\n",
        "plt.xlabel('Número de pedidos')\n",
        "plt.ylabel('Cidade')\n",
        "plt.title('Top 10 cidades por número de pedidos')\n",
        "plt.show()"
      ]
    },
    {
      "cell_type": "markdown",
      "id": "2c333986",
      "metadata": {
        "papermill": {
          "duration": 0.047518,
          "end_time": "2024-04-29T15:32:17.209763",
          "exception": false,
          "start_time": "2024-04-29T15:32:17.162245",
          "status": "completed"
        },
        "tags": [],
        "id": "2c333986"
      },
      "source": [
        "Podemos ver que São Paulo domina amplamente, com aproximadamente o dobro de pedidos em relação ao segundo lugar, Rio de Janeiro.\n",
        "As demais cidades — Belo Horizonte, Brasília, Curitiba e Campinas — têm volumes consideravelmente menores, mas ainda expressivos.\n",
        "O padrão indica forte concentração de pedidos nas grandes capitais e regiões metropolitanas, o que reflete maior densidade populacional e poder de compra"
      ]
    },
    {
      "cell_type": "markdown",
      "id": "bbf741c3",
      "metadata": {
        "papermill": {
          "duration": 0.04696,
          "end_time": "2024-04-29T15:32:17.304145",
          "exception": false,
          "start_time": "2024-04-29T15:32:17.257185",
          "status": "completed"
        },
        "tags": [],
        "id": "bbf741c3"
      },
      "source": [
        "<br>"
      ]
    },
    {
      "cell_type": "markdown",
      "id": "a724bd30",
      "metadata": {
        "papermill": {
          "duration": 0.0481,
          "end_time": "2024-04-29T15:32:17.401652",
          "exception": false,
          "start_time": "2024-04-29T15:32:17.353552",
          "status": "completed"
        },
        "tags": [],
        "id": "a724bd30"
      },
      "source": [
        "# Preço dos pedidos\n",
        "\n",
        "- Qual é o valor médio de um pedido?\n",
        "- A Olist lida com transações de itens de valor muito baixo ou muito alto?\n",
        "\n",
        "vamos dar uma olhada na tabela order_items:\n",
        "Ela contém vários IDs, além do preço (em reais R$) e do custo de envio dos itens de cada pedido"
      ]
    },
    {
      "cell_type": "code",
      "execution_count": null,
      "id": "4e72868d",
      "metadata": {
        "execution": {
          "iopub.execute_input": "2024-04-29T15:32:17.498118Z",
          "iopub.status.busy": "2024-04-29T15:32:17.496732Z",
          "iopub.status.idle": "2024-04-29T15:32:17.526666Z",
          "shell.execute_reply": "2024-04-29T15:32:17.525589Z"
        },
        "papermill": {
          "duration": 0.080759,
          "end_time": "2024-04-29T15:32:17.529482",
          "exception": false,
          "start_time": "2024-04-29T15:32:17.448723",
          "status": "completed"
        },
        "tags": [],
        "id": "4e72868d"
      },
      "outputs": [],
      "source": [
        "# Tabela order_items, primeiras 4 colunas\n",
        "view_table('order_items', 5).iloc[:, :4]"
      ]
    },
    {
      "cell_type": "code",
      "execution_count": null,
      "id": "91378f0f",
      "metadata": {
        "execution": {
          "iopub.execute_input": "2024-04-29T15:32:17.627353Z",
          "iopub.status.busy": "2024-04-29T15:32:17.626844Z",
          "iopub.status.idle": "2024-04-29T15:32:17.643226Z",
          "shell.execute_reply": "2024-04-29T15:32:17.641919Z"
        },
        "papermill": {
          "duration": 0.068257,
          "end_time": "2024-04-29T15:32:17.645639",
          "exception": false,
          "start_time": "2024-04-29T15:32:17.577382",
          "status": "completed"
        },
        "tags": [],
        "id": "91378f0f"
      },
      "outputs": [],
      "source": [
        "# Tabela order_items, 2 últimas colunas\n",
        "view_table('order_items', 5).iloc[:, 5:]"
      ]
    },
    {
      "cell_type": "markdown",
      "id": "20d43852",
      "metadata": {
        "papermill": {
          "duration": 0.048149,
          "end_time": "2024-04-29T15:32:17.742104",
          "exception": false,
          "start_time": "2024-04-29T15:32:17.693955",
          "status": "completed"
        },
        "tags": [],
        "id": "20d43852"
      },
      "source": [
        "Qual a média do preço dos pedidos, considerando os custos de produtos e o frete pra envio? vamos analisar os pedidos com menores e maiores custos"
      ]
    },
    {
      "cell_type": "code",
      "source": [
        "order_price_stats = \"\"\"\n",
        "SELECT\n",
        "    MIN(order_price) AS min_order_price,\n",
        "    ROUND(AVG(order_price), 2) AS avg_order_price,\n",
        "    MAX(order_price) AS max_order_price\n",
        "FROM (\n",
        "    SELECT\n",
        "        orders.order_id,\n",
        "        SUM(order_items.price + order_items.freight_value) AS order_price\n",
        "    FROM orders\n",
        "        JOIN order_items USING (order_id)\n",
        "    GROUP BY orders.order_id\n",
        ")\n",
        "\"\"\"\n",
        "\n",
        "pd.read_sql_query(order_price_stats, conn)"
      ],
      "metadata": {
        "id": "6yHmtvf1iOOe"
      },
      "id": "6yHmtvf1iOOe",
      "execution_count": null,
      "outputs": []
    },
    {
      "cell_type": "markdown",
      "id": "9b5da0b5",
      "metadata": {
        "papermill": {
          "duration": 0.05316,
          "end_time": "2024-04-29T15:32:18.900379",
          "exception": false,
          "start_time": "2024-04-29T15:32:18.847219",
          "status": "completed"
        },
        "tags": [],
        "id": "9b5da0b5"
      },
      "source": [
        "O preço médio dos pedidos é R$160,58\n",
        "\n",
        "O pedido mais caro chega a R$13.664,08, quase 100x acima da média — provavelmente uma distribuição com cauda à direita\n",
        "\n",
        "Vamos ver a variação dos preços, separando o valor dos produtos e o frete."
      ]
    },
    {
      "cell_type": "code",
      "execution_count": null,
      "id": "82b93077",
      "metadata": {
        "execution": {
          "iopub.execute_input": "2024-04-29T15:32:19.003766Z",
          "iopub.status.busy": "2024-04-29T15:32:19.002735Z",
          "iopub.status.idle": "2024-04-29T15:32:20.136810Z",
          "shell.execute_reply": "2024-04-29T15:32:20.135591Z"
        },
        "papermill": {
          "duration": 1.187484,
          "end_time": "2024-04-29T15:32:20.139454",
          "exception": false,
          "start_time": "2024-04-29T15:32:18.951970",
          "status": "completed"
        },
        "tags": [],
        "id": "82b93077"
      },
      "outputs": [],
      "source": [
        "order_product_and_shipping_costs = \"\"\"\n",
        "SELECT\n",
        "    orders.order_id,\n",
        "    SUM(price) AS product_cost,\n",
        "    SUM(freight_value) AS shipping_cost\n",
        "FROM\n",
        "    orders\n",
        "    JOIN order_items USING (order_id)\n",
        "WHERE order_status = 'delivered'\n",
        "GROUP BY orders.order_id\n",
        "\"\"\"\n",
        "\n",
        "df = pd.read_sql_query(order_product_and_shipping_costs, conn)\n",
        "df"
      ]
    },
    {
      "cell_type": "markdown",
      "id": "a942c7e4",
      "metadata": {
        "papermill": {
          "duration": 0.048297,
          "end_time": "2024-04-29T15:32:20.236148",
          "exception": false,
          "start_time": "2024-04-29T15:32:20.187851",
          "status": "completed"
        },
        "tags": [],
        "id": "a942c7e4"
      },
      "source": [
        "Vamos plotar um histograma para cada tipo de custo.\n",
        "\n",
        "Como os valores variam bastante, mas a maioria dos pedidos tem custo baixo, vamos limitar o eixo X para 500 reais (produtos) e 80 reais (frete), podendo ver a distribuição dos valores mais comuns."
      ]
    },
    {
      "cell_type": "code",
      "execution_count": null,
      "id": "cc93c077",
      "metadata": {
        "execution": {
          "iopub.execute_input": "2024-04-29T15:32:20.335486Z",
          "iopub.status.busy": "2024-04-29T15:32:20.334261Z",
          "iopub.status.idle": "2024-04-29T15:32:24.043439Z",
          "shell.execute_reply": "2024-04-29T15:32:24.042055Z"
        },
        "papermill": {
          "duration": 3.761882,
          "end_time": "2024-04-29T15:32:24.046166",
          "exception": false,
          "start_time": "2024-04-29T15:32:20.284284",
          "status": "completed"
        },
        "tags": [],
        "id": "cc93c077"
      },
      "outputs": [],
      "source": [
        "plt.figure(figsize=(15, 6))\n",
        "# Histograma para o custo total de produtos\n",
        "plt.subplot(1, 2, 1)\n",
        "plt.hist(df['product_cost'], bins=1000, color='blue')\n",
        "plt.title('Custo do produto para pedidos < R$500')\n",
        "plt.xlabel('Custo do produto (R$)')\n",
        "plt.ylabel('Frequência')\n",
        "plt.xlim([0, 500])\n",
        "# Histograma para o custo total do frete\n",
        "plt.subplot(1, 2, 2)\n",
        "plt.hist(df['shipping_cost'], bins=800, color='#ad865f')\n",
        "plt.title('Custo do frete para pedidos < R$80')\n",
        "plt.xlabel('Custo do produto (R$)')\n",
        "plt.xlim([0, 80])\n",
        "plt.show()"
      ]
    },
    {
      "cell_type": "markdown",
      "id": "bbd3ddec",
      "metadata": {
        "papermill": {
          "duration": 0.048482,
          "end_time": "2024-04-29T15:32:24.145821",
          "exception": false,
          "start_time": "2024-04-29T15:32:24.097339",
          "status": "completed"
        },
        "tags": [],
        "id": "bbd3ddec"
      },
      "source": [
        "O valor dos produtos varia bastante, mas a maioria dos pedidos custa menos de R$ 200.\n",
        "\n",
        "O frete geralmente fica entre 7 a 20 reais, podendo chegar a valores bem mais altos em alguns casos."
      ]
    },
    {
      "cell_type": "markdown",
      "id": "51bba5ce",
      "metadata": {
        "papermill": {
          "duration": 0.049156,
          "end_time": "2024-04-29T15:32:24.342617",
          "exception": false,
          "start_time": "2024-04-29T15:32:24.293461",
          "status": "completed"
        },
        "tags": [],
        "id": "51bba5ce"
      },
      "source": [
        "# Categorias de produtos\n",
        "\n",
        "vamos observar a tabela 'products', que possui 9 colunas. Vamos analistar a categoria e o peso do produto"
      ]
    },
    {
      "cell_type": "code",
      "execution_count": null,
      "id": "5daed0d4",
      "metadata": {
        "execution": {
          "iopub.execute_input": "2024-04-29T15:32:24.443541Z",
          "iopub.status.busy": "2024-04-29T15:32:24.443118Z",
          "iopub.status.idle": "2024-04-29T15:32:24.472092Z",
          "shell.execute_reply": "2024-04-29T15:32:24.470945Z"
        },
        "papermill": {
          "duration": 0.082468,
          "end_time": "2024-04-29T15:32:24.474778",
          "exception": false,
          "start_time": "2024-04-29T15:32:24.392310",
          "status": "completed"
        },
        "tags": [],
        "id": "5daed0d4"
      },
      "outputs": [],
      "source": [
        "view_table('products', 5).iloc[:, [0, 1, 5]]"
      ]
    },
    {
      "cell_type": "code",
      "source": [
        "query = \"\"\"\n",
        "SELECT DISTINCT product_category_name\n",
        "FROM products\n",
        "ORDER BY product_category_name;\n",
        "\"\"\"\n",
        "\n",
        "df = pd.read_sql_query(query, conn)\n",
        "print(df)\n"
      ],
      "metadata": {
        "id": "yOVVjTvXl_Ou"
      },
      "id": "yOVVjTvXl_Ou",
      "execution_count": null,
      "outputs": []
    },
    {
      "cell_type": "markdown",
      "id": "291a6b45",
      "metadata": {
        "papermill": {
          "duration": 0.046701,
          "end_time": "2024-04-29T15:32:24.570316",
          "exception": false,
          "start_time": "2024-04-29T15:32:24.523615",
          "status": "completed"
        },
        "tags": [],
        "id": "291a6b45"
      },
      "source": [
        "São 73 categorias únicas de produtos. Vamos usar um treemap para mostrar as vendas relativas de cada uma. Como 71 é muito, selecionaremos as 18 principais e agruparemos o resto em “Outras categorias”.\n",
        "\n",
        "Primeiro, vamos calcular o total de vendas por categoria"
      ]
    },
    {
      "cell_type": "code",
      "execution_count": null,
      "id": "edc7195d",
      "metadata": {
        "execution": {
          "iopub.execute_input": "2024-04-29T15:32:24.670305Z",
          "iopub.status.busy": "2024-04-29T15:32:24.669854Z",
          "iopub.status.idle": "2024-04-29T15:32:25.850941Z",
          "shell.execute_reply": "2024-04-29T15:32:25.850020Z"
        },
        "papermill": {
          "duration": 1.233803,
          "end_time": "2024-04-29T15:32:25.853451",
          "exception": false,
          "start_time": "2024-04-29T15:32:24.619648",
          "status": "completed"
        },
        "tags": [],
        "id": "edc7195d"
      },
      "outputs": [],
      "source": [
        "ranked_categories = \"\"\"\n",
        "SELECT\n",
        "    product_category_name AS categoria,\n",
        "    SUM(price) AS vendas,\n",
        "    RANK() OVER (ORDER BY SUM(price) DESC) AS posicao\n",
        "FROM order_items\n",
        "    JOIN orders USING (order_id)\n",
        "    JOIN products USING (product_id)\n",
        "WHERE order_status = 'delivered'\n",
        "GROUP BY product_category_name\n",
        "\"\"\"\n",
        "\n",
        "pd.read_sql_query(ranked_categories, conn)"
      ]
    },
    {
      "cell_type": "code",
      "execution_count": null,
      "id": "5481d524",
      "metadata": {
        "execution": {
          "iopub.execute_input": "2024-04-29T15:32:26.059283Z",
          "iopub.status.busy": "2024-04-29T15:32:26.058099Z",
          "iopub.status.idle": "2024-04-29T15:32:27.182311Z",
          "shell.execute_reply": "2024-04-29T15:32:27.181082Z"
        },
        "papermill": {
          "duration": 1.180299,
          "end_time": "2024-04-29T15:32:27.184794",
          "exception": false,
          "start_time": "2024-04-29T15:32:26.004495",
          "status": "completed"
        },
        "tags": [],
        "id": "5481d524"
      },
      "outputs": [],
      "source": [
        "category_sales_summary = f\"\"\"\n",
        "WITH RankedCategories AS (\n",
        "    {ranked_categories}\n",
        ")\n",
        "-- Top 18 categorias por vendas\n",
        "SELECT\n",
        "    categoria,\n",
        "    vendas\n",
        "FROM RankedCategories\n",
        "WHERE posicao <= 18\n",
        "\n",
        "UNION ALL\n",
        "\n",
        "-- Outras categorias agrupadas\n",
        "SELECT\n",
        "    'Outras categorias' AS categoria,\n",
        "    SUM(vendas) AS vendas\n",
        "FROM RankedCategories\n",
        "WHERE posicao > 18\n",
        "\"\"\"\n",
        "\n",
        "df = pd.read_sql_query(category_sales_summary, conn)\n",
        "df"
      ]
    },
    {
      "cell_type": "markdown",
      "id": "1ec3047b",
      "metadata": {
        "papermill": {
          "duration": 0.051899,
          "end_time": "2024-04-29T15:32:27.290491",
          "exception": false,
          "start_time": "2024-04-29T15:32:27.238592",
          "status": "completed"
        },
        "tags": [],
        "id": "1ec3047b"
      },
      "source": [
        "Vamos visualizar esses dados em um 'treemap' usando o a biblioteca 'Squarify':"
      ]
    },
    {
      "cell_type": "code",
      "source": [
        "!pip install squarify"
      ],
      "metadata": {
        "id": "N7z1A8vWn5_C"
      },
      "id": "N7z1A8vWn5_C",
      "execution_count": null,
      "outputs": []
    },
    {
      "cell_type": "code",
      "execution_count": null,
      "id": "8881455b",
      "metadata": {
        "execution": {
          "iopub.execute_input": "2024-04-29T15:32:27.394083Z",
          "iopub.status.busy": "2024-04-29T15:32:27.393610Z",
          "iopub.status.idle": "2024-04-29T15:32:27.718246Z",
          "shell.execute_reply": "2024-04-29T15:32:27.717281Z"
        },
        "papermill": {
          "duration": 0.379506,
          "end_time": "2024-04-29T15:32:27.720637",
          "exception": false,
          "start_time": "2024-04-29T15:32:27.341131",
          "status": "completed"
        },
        "tags": [],
        "id": "8881455b"
      },
      "outputs": [],
      "source": [
        "import squarify\n",
        "\n",
        "plt.figure(figsize=(15, 8))\n",
        "plt.title('Vendas por categoria')\n",
        "color = sns.color_palette(\"viridis\", len(df))\n",
        "squarify.plot(sizes=df['vendas'], label=df['categoria'],\n",
        "              alpha=0.7, color=color, edgecolor=\"white\", linewidth=2)\n",
        "plt.axis('off')\n",
        "plt.show()"
      ]
    },
    {
      "cell_type": "markdown",
      "source": [
        "Podemos entender melhor os tipos de produtos analisando a distribuição do peso por categoria em boxplots.\n",
        "Usaremos a lista das 18 principais categorias do dataframe anterior."
      ],
      "metadata": {
        "id": "5ds-Ptwqo7ud"
      },
      "id": "5ds-Ptwqo7ud"
    },
    {
      "cell_type": "code",
      "execution_count": null,
      "id": "edfa7119",
      "metadata": {
        "execution": {
          "iopub.execute_input": "2024-04-29T15:32:27.929214Z",
          "iopub.status.busy": "2024-04-29T15:32:27.928047Z",
          "iopub.status.idle": "2024-04-29T15:32:27.933409Z",
          "shell.execute_reply": "2024-04-29T15:32:27.932475Z"
        },
        "papermill": {
          "duration": 0.060205,
          "end_time": "2024-04-29T15:32:27.935862",
          "exception": false,
          "start_time": "2024-04-29T15:32:27.875657",
          "status": "completed"
        },
        "tags": [],
        "id": "edfa7119"
      },
      "outputs": [],
      "source": [
        "top_18_categorias = tuple(categoria for categoria in df['categoria'] if categoria != 'Outras categorias')\n",
        "print(top_18_categorias)"
      ]
    },
    {
      "cell_type": "markdown",
      "id": "0f2b97c3",
      "metadata": {
        "papermill": {
          "duration": 0.051856,
          "end_time": "2024-04-29T15:32:28.040783",
          "exception": false,
          "start_time": "2024-04-29T15:32:27.988927",
          "status": "completed"
        },
        "tags": [],
        "id": "0f2b97c3"
      },
      "source": [
        "Como o SQLite não possui função de mediana, ordenaremos os produtos por categoria usando números de linha e contaremos quantos produtos há em cada uma, salvando o resultado para gerar o gráfico."
      ]
    },
    {
      "cell_type": "code",
      "execution_count": null,
      "id": "a41d091c",
      "metadata": {
        "execution": {
          "iopub.execute_input": "2024-04-29T15:32:28.151318Z",
          "iopub.status.busy": "2024-04-29T15:32:28.150300Z",
          "iopub.status.idle": "2024-04-29T15:32:29.459212Z",
          "shell.execute_reply": "2024-04-29T15:32:29.457922Z"
        },
        "papermill": {
          "duration": 1.3658,
          "end_time": "2024-04-29T15:32:29.461876",
          "exception": false,
          "start_time": "2024-04-29T15:32:28.096076",
          "status": "completed"
        },
        "tags": [],
        "id": "a41d091c"
      },
      "outputs": [],
      "source": [
        "categorias_ordenadas = f\"\"\"\n",
        "SELECT\n",
        "    product_weight_g AS peso,\n",
        "    product_category_name AS categoria,\n",
        "    ROW_NUMBER() OVER(PARTITION BY product_category_name ORDER BY product_weight_g) AS categoria_linha,\n",
        "    COUNT(*) OVER(PARTITION BY product_category_name) AS total_produtos\n",
        "FROM products\n",
        "JOIN order_items USING (product_id)\n",
        "WHERE product_category_name IN {top_18_categorias}\n",
        "\"\"\"\n",
        "\n",
        "df = pd.read_sql_query(categorias_ordenadas, conn)\n",
        "df"
      ]
    },
    {
      "cell_type": "markdown",
      "id": "4dad4613",
      "metadata": {
        "papermill": {
          "duration": 0.051662,
          "end_time": "2024-04-29T15:32:29.565151",
          "exception": false,
          "start_time": "2024-04-29T15:32:29.513489",
          "status": "completed"
        },
        "tags": [],
        "id": "4dad4613"
      },
      "source": [
        "Podemos usar a consulta anterior 'categorias_ordenadas' para calcular a mediana de cada categoria e ordenar pelos valores medianos."
      ]
    },
    {
      "cell_type": "code",
      "execution_count": null,
      "id": "4bc76b64",
      "metadata": {
        "execution": {
          "iopub.execute_input": "2024-04-29T15:32:29.672045Z",
          "iopub.status.busy": "2024-04-29T15:32:29.671545Z",
          "iopub.status.idle": "2024-04-29T15:32:30.708511Z",
          "shell.execute_reply": "2024-04-29T15:32:30.707354Z"
        },
        "papermill": {
          "duration": 1.093019,
          "end_time": "2024-04-29T15:32:30.711013",
          "exception": false,
          "start_time": "2024-04-29T15:32:29.617994",
          "status": "completed"
        },
        "tags": [],
        "id": "4bc76b64"
      },
      "outputs": [],
      "source": [
        "categorias_por_mediana = f\"\"\"\n",
        "WITH CategoriasOrdenadas AS (\n",
        "    {categorias_ordenadas}\n",
        ")\n",
        "SELECT\n",
        "    categoria,\n",
        "    AVG(peso) AS mediana_peso\n",
        "FROM CategoriasOrdenadas\n",
        "WHERE\n",
        "    -- Número ímpar de produtos: seleciona a linha do meio\n",
        "    (total_produtos % 2 = 1 AND categoria_linha = (total_produtos + 1) / 2)\n",
        "    OR\n",
        "    -- Número par de produtos: seleciona as duas linhas centrais e calcula a média\n",
        "    (total_produtos % 2 = 0 AND categoria_linha IN ((total_produtos / 2), (total_produtos / 2 + 1)))\n",
        "GROUP BY categoria\n",
        "ORDER BY mediana_peso;\n",
        "\"\"\"\n",
        "\n",
        "categorias_por_mediana_df = pd.read_sql_query(categorias_por_mediana, conn)\n",
        "categorias_por_mediana_df\n",
        "\n"
      ]
    },
    {
      "cell_type": "markdown",
      "id": "2fb9eb0c",
      "metadata": {
        "papermill": {
          "duration": 0.053204,
          "end_time": "2024-04-29T15:32:30.814303",
          "exception": false,
          "start_time": "2024-04-29T15:32:30.761099",
          "status": "completed"
        },
        "tags": [],
        "id": "2fb9eb0c"
      },
      "source": [
        "Agora bora plotar um gráfico com os boxplots."
      ]
    },
    {
      "cell_type": "code",
      "execution_count": null,
      "id": "ecd1745d",
      "metadata": {
        "execution": {
          "iopub.execute_input": "2024-04-29T15:32:30.923959Z",
          "iopub.status.busy": "2024-04-29T15:32:30.923088Z",
          "iopub.status.idle": "2024-04-29T15:32:31.622266Z",
          "shell.execute_reply": "2024-04-29T15:32:31.620945Z"
        },
        "papermill": {
          "duration": 0.760145,
          "end_time": "2024-04-29T15:32:31.625845",
          "exception": false,
          "start_time": "2024-04-29T15:32:30.865700",
          "status": "completed"
        },
        "tags": [],
        "id": "ecd1745d"
      },
      "outputs": [],
      "source": [
        "plt.figure(figsize=(12, 8))\n",
        "\n",
        "# Define a ordem das categorias de acordo com a mediana calculada\n",
        "ordem = categorias_por_mediana_df['categoria'].tolist()\n",
        "\n",
        "# Cria o boxplot de peso por categoria\n",
        "sns.boxplot(\n",
        "    x='peso',\n",
        "    y='categoria',\n",
        "    data=df,\n",
        "    order=ordem,\n",
        "    showfliers=False\n",
        ")\n",
        "\n",
        "# Customização dos eixos e título\n",
        "plt.xlabel('Peso do produto (gramas)')\n",
        "plt.ylabel('Categoria do produto')\n",
        "plt.title('Distribuição do peso dos produtos - Top 18 categorias por vendas')\n",
        "\n",
        "# Limites e ticks do eixo X\n",
        "plt.xlim(-100, 26100)\n",
        "plt.xticks(ticks=range(0, 30000, 2500))\n",
        "plt.yticks(fontsize=12)\n",
        "\n",
        "plt.show()\n"
      ]
    },
    {
      "cell_type": "markdown",
      "id": "aaee2b11",
      "metadata": {
        "papermill": {
          "duration": 0.052492,
          "end_time": "2024-04-29T15:32:31.731579",
          "exception": false,
          "start_time": "2024-04-29T15:32:31.679087",
          "status": "completed"
        },
        "tags": [],
        "id": "aaee2b11"
      },
      "source": [
        "Podemos ver no topo do gráfico que as categorias telefonia, informática_acessórios, relógios_presentes e beleza_saúde possuem itens leves (geralmente abaixo de 2 kg).\n",
        "Na parte inferior, pcs e moveis_escritório têm produtos bem mais pesados."
      ]
    },
    {
      "cell_type": "markdown",
      "id": "d1ce7a7f",
      "metadata": {
        "papermill": {
          "duration": 0.051695,
          "end_time": "2024-04-29T15:32:31.942749",
          "exception": false,
          "start_time": "2024-04-29T15:32:31.891054",
          "status": "completed"
        },
        "tags": [],
        "id": "d1ce7a7f"
      },
      "source": [
        "# Evolução mensal das vendas por categoria\n",
        "\n",
        "Vamos analisar as tendências de vendas de algumas categorias selecionadas:"
      ]
    },
    {
      "cell_type": "code",
      "execution_count": null,
      "id": "b834e1af",
      "metadata": {
        "execution": {
          "iopub.execute_input": "2024-04-29T15:32:32.050507Z",
          "iopub.status.busy": "2024-04-29T15:32:32.050082Z",
          "iopub.status.idle": "2024-04-29T15:32:32.056118Z",
          "shell.execute_reply": "2024-04-29T15:32:32.054957Z"
        },
        "papermill": {
          "duration": 0.063948,
          "end_time": "2024-04-29T15:32:32.058771",
          "exception": false,
          "start_time": "2024-04-29T15:32:31.994823",
          "status": "completed"
        },
        "tags": [],
        "id": "b834e1af"
      },
      "outputs": [],
      "source": [
        "selected_categories = ('beleza_saude',\n",
        "    'automotivo',\n",
        "    'brinquedos',\n",
        "    'informatica_acessorios',\n",
        "    'cama_mesa_banho')"
      ]
    },
    {
      "cell_type": "markdown",
      "id": "83894121",
      "metadata": {
        "papermill": {
          "duration": 0.053433,
          "end_time": "2024-04-29T15:32:32.165754",
          "exception": false,
          "start_time": "2024-04-29T15:32:32.112321",
          "status": "completed"
        },
        "tags": [],
        "id": "83894121"
      },
      "source": [
        "Para criar um gráfico de linha com as vendas mensais de cada categoria, precisamos de uma matriz com a soma das vendas, onde as colunas são as categorias e as linhas representam os meses."
      ]
    },
    {
      "cell_type": "code",
      "execution_count": null,
      "id": "79cc7648",
      "metadata": {
        "execution": {
          "iopub.execute_input": "2024-04-29T15:32:32.279806Z",
          "iopub.status.busy": "2024-04-29T15:32:32.278442Z",
          "iopub.status.idle": "2024-04-29T15:32:33.477348Z",
          "shell.execute_reply": "2024-04-29T15:32:33.476097Z"
        },
        "papermill": {
          "duration": 1.261232,
          "end_time": "2024-04-29T15:32:33.480063",
          "exception": false,
          "start_time": "2024-04-29T15:32:32.218831",
          "status": "completed"
        },
        "tags": [],
        "id": "79cc7648"
      },
      "outputs": [],
      "source": [
        "monthly_sales_selected_categories = f\"\"\"\n",
        "SELECT\n",
        "    strftime('%Y-%m', order_purchase_timestamp) AS ano_mes,\n",
        "    SUM(CASE WHEN product_category_name = 'beleza_saude' THEN price END) AS beleza_saude,\n",
        "    SUM(CASE WHEN product_category_name = 'automotivo' THEN price END) AS automotivo,\n",
        "    SUM(CASE WHEN product_category_name = 'brinquedos' THEN price END) AS brinquedos,\n",
        "    SUM(CASE WHEN product_category_name = 'informatica_acessorios' THEN price END) AS informatica_acessorios,\n",
        "    SUM(CASE WHEN product_category_name = 'cama_mesa_banho' THEN price END) AS cama_mesa_banho\n",
        "FROM orders\n",
        "    JOIN order_items USING (order_id)\n",
        "    JOIN products USING (product_id)\n",
        "WHERE order_purchase_timestamp >= '2017-01-01'\n",
        "    AND product_category_name IN {selected_categories}\n",
        "GROUP BY ano_mes\n",
        "\"\"\"\n",
        "\n",
        "df = pd.read_sql_query(monthly_sales_selected_categories, conn)\n",
        "df = df.set_index('ano_mes')\n",
        "df\n"
      ]
    },
    {
      "cell_type": "markdown",
      "id": "e18e7ead",
      "metadata": {
        "papermill": {
          "duration": 0.053592,
          "end_time": "2024-04-29T15:32:33.587193",
          "exception": false,
          "start_time": "2024-04-29T15:32:33.533601",
          "status": "completed"
        },
        "tags": [],
        "id": "e18e7ead"
      },
      "source": [
        "Há poucos dados antes de 2017-01-01, então ignorei os pedidos feitos antes dessa data. Visualizando a série temporal:"
      ]
    },
    {
      "cell_type": "code",
      "execution_count": null,
      "id": "0ae4cf80",
      "metadata": {
        "execution": {
          "iopub.execute_input": "2024-04-29T15:32:33.705852Z",
          "iopub.status.busy": "2024-04-29T15:32:33.704999Z",
          "iopub.status.idle": "2024-04-29T15:32:34.310061Z",
          "shell.execute_reply": "2024-04-29T15:32:34.308850Z"
        },
        "papermill": {
          "duration": 0.671968,
          "end_time": "2024-04-29T15:32:34.314109",
          "exception": false,
          "start_time": "2024-04-29T15:32:33.642141",
          "status": "completed"
        },
        "tags": [],
        "id": "0ae4cf80"
      },
      "outputs": [],
      "source": [
        "# Converte o índice (ano_mes) para datetime\n",
        "df.index = pd.to_datetime(df.index, format='%Y-%m')\n",
        "\n",
        "# Cria figura e eixo\n",
        "fig, ax = plt.subplots(figsize=(14, 8))\n",
        "\n",
        "# Plota as linhas\n",
        "df.plot(ax=ax, marker='o', linestyle='-')\n",
        "\n",
        "# Ajusta os rótulos do eixo X\n",
        "ax.set_xticks(df.index)\n",
        "ax.set_xticklabels(df.index.strftime('%Y-%m'), rotation=45, ha='right')\n",
        "\n",
        "# Títulos e rótulos\n",
        "plt.title('Evolução Mensal das Vendas por Categoria', fontsize=16)\n",
        "plt.xlabel('Ano-Mês', fontsize=12)\n",
        "plt.ylabel('Vendas Mensais (R$)', fontsize=12)\n",
        "\n",
        "# Legenda e grid\n",
        "plt.legend(title='Categoria de Produto', title_fontsize=13, fontsize=11)\n",
        "plt.grid(True, linestyle='--', alpha=0.5)\n",
        "\n",
        "# Mostra o gráfico\n",
        "plt.tight_layout()\n",
        "plt.show()\n"
      ]
    },
    {
      "cell_type": "markdown",
      "source": [
        "Beleza e Saúde lidera com crescimento constante e sólido; Automotivo cresce de forma estável e previsível.\n",
        "Brinquedos tem pico forte no fim do ano, mostrando alta sazonalidade.\n",
        "Informática sobe até 2018 e depois cai, exigindo revisão de oferta.\n",
        "Cama, Mesa e Banho oscila bastante, com potencial em datas específicas."
      ],
      "metadata": {
        "id": "_vCubw8UzqPk"
      },
      "id": "_vCubw8UzqPk"
    },
    {
      "cell_type": "markdown",
      "id": "ceb19fd6",
      "metadata": {
        "papermill": {
          "duration": 0.061679,
          "end_time": "2024-04-29T15:32:40.676697",
          "exception": false,
          "start_time": "2024-04-29T15:32:40.615018",
          "status": "completed"
        },
        "tags": [],
        "id": "ceb19fd6"
      },
      "source": [
        "# Entrega dos pedidos\n",
        "\n",
        "A tabela orders contém vários registros de tempo:\n",
        "\n",
        "- order_purchase_timestamp – quando o cliente faz o pedido.\n",
        "- order_approved_at – quando o pedido é aprovado pela Olist.\n",
        "- order_delivered_carrier_date – quando é enviado para a transportadora.\n",
        "- order_delivered_customer_date – quando o cliente recebe o pedido.\n",
        "- order_estimated_delivery_date – previsão de entrega.\n",
        "\n",
        "Cada um marca uma etapa do processo de envio.\n",
        "Agora vamos consultar os dados para visualizar o tempo médio de cada etapa nas 10 cidades com mais pedidos."
      ]
    },
    {
      "cell_type": "code",
      "execution_count": null,
      "id": "72d3b3ee",
      "metadata": {
        "execution": {
          "iopub.execute_input": "2024-04-29T15:32:40.799665Z",
          "iopub.status.busy": "2024-04-29T15:32:40.799277Z",
          "iopub.status.idle": "2024-04-29T15:32:41.989305Z",
          "shell.execute_reply": "2024-04-29T15:32:41.988496Z"
        },
        "papermill": {
          "duration": 1.254922,
          "end_time": "2024-04-29T15:32:41.991532",
          "exception": false,
          "start_time": "2024-04-29T15:32:40.736610",
          "status": "completed"
        },
        "tags": [],
        "id": "72d3b3ee"
      },
      "outputs": [],
      "source": [
        "# Top 10 cidades com mais pedidos\n",
        "top_cities_query = \"\"\"\n",
        "SELECT\n",
        "    customer_city,\n",
        "    COUNT(order_id) AS total_pedidos\n",
        "FROM orders\n",
        "JOIN customers USING (customer_id)\n",
        "GROUP BY customer_city\n",
        "ORDER BY total_pedidos DESC\n",
        "LIMIT 10\n",
        "\"\"\"\n",
        "\n",
        "top_cities = pd.read_sql_query(top_cities_query, conn)\n",
        "top_cities"
      ]
    },
    {
      "cell_type": "code",
      "source": [
        "order_stage_times_top_10_cities = f\"\"\"\n",
        "SELECT\n",
        "    UPPER(customer_city) AS city,\n",
        "    AVG(JULIANDAY(order_approved_at) - JULIANDAY(order_purchase_timestamp)) AS approved,\n",
        "    AVG(JULIANDAY(order_delivered_carrier_date) - JULIANDAY(order_approved_at)) AS delivered_to_carrier,\n",
        "    AVG(JULIANDAY(order_delivered_customer_date) - JULIANDAY(order_delivered_carrier_date)) AS delivered_to_customer,\n",
        "    AVG(JULIANDAY(order_estimated_delivery_date) - JULIANDAY(order_delivered_customer_date)) AS estimated_delivery\n",
        "FROM orders\n",
        "JOIN customers USING (customer_id)\n",
        "WHERE customer_city IN {tuple(top_cities['customer_city'])}\n",
        "GROUP BY city\n",
        "ORDER BY approved + delivered_to_carrier + delivered_to_customer DESC\n",
        "\"\"\"\n",
        "\n",
        "df = pd.read_sql_query(order_stage_times_top_10_cities, conn)\n",
        "df = df.set_index('city')\n",
        "df"
      ],
      "metadata": {
        "id": "aQ_Vx5rJ27Fy"
      },
      "id": "aQ_Vx5rJ27Fy",
      "execution_count": null,
      "outputs": []
    },
    {
      "cell_type": "markdown",
      "id": "f994ae1b",
      "metadata": {
        "papermill": {
          "duration": 0.060101,
          "end_time": "2024-04-29T15:32:42.112408",
          "exception": false,
          "start_time": "2024-04-29T15:32:42.052307",
          "status": "completed"
        },
        "tags": [],
        "id": "f994ae1b"
      },
      "source": [
        "Bora ver em um gráfico de barra o nosso df"
      ]
    },
    {
      "cell_type": "code",
      "execution_count": null,
      "id": "f5496b29",
      "metadata": {
        "execution": {
          "iopub.execute_input": "2024-04-29T15:32:42.234068Z",
          "iopub.status.busy": "2024-04-29T15:32:42.233104Z",
          "iopub.status.idle": "2024-04-29T15:32:42.836498Z",
          "shell.execute_reply": "2024-04-29T15:32:42.835337Z"
        },
        "papermill": {
          "duration": 0.666981,
          "end_time": "2024-04-29T15:32:42.839153",
          "exception": false,
          "start_time": "2024-04-29T15:32:42.172172",
          "status": "completed"
        },
        "tags": [],
        "id": "f5496b29"
      },
      "outputs": [],
      "source": [
        "fig, ax = plt.subplots(figsize=(11, 7))\n",
        "df.plot(kind='barh', stacked=True, color=['#c44f53', '#4c72b1', '#55a978', '#dd842275'], ax=ax)\n",
        "ax.set_xlabel('Média de dias')\n",
        "ax.set_ylabel('Cidade')\n",
        "fig.suptitle('Média de dias em cada etapa do pedido (10 principais cidades por vendas)', fontsize=16, x=0.38, y=0.92)\n",
        "ax.grid(True, linestyle='--', linewidth=0.5, axis='x')\n",
        "max_bar_length = int(df.sum(axis=1).max())\n",
        "ax.set_xticks(range(0, max_bar_length + 4))\n",
        "ax.tick_params(axis='y', labelsize=14)\n",
        "plt.legend(title='Etapa do pedido', title_fontsize=14, fontsize=14)\n",
        "plt.show()"
      ]
    },
    {
      "cell_type": "markdown",
      "id": "640dca63",
      "metadata": {
        "papermill": {
          "duration": 0.062208,
          "end_time": "2024-04-29T15:32:43.158724",
          "exception": false,
          "start_time": "2024-04-29T15:32:43.096516",
          "status": "completed"
        },
        "tags": [],
        "id": "640dca63"
      },
      "source": [
        "Vemos que o tempo entre a aprovação e o envio ao transportador é parecido em todas as cidades (aproximadamente 3 dias).\n",
        "Já o tempo até a entrega varia bastante: São Paulo, Guarulhos e São Bernardo levam cerca de 5 dias, enquanto Rio, Porto Alegre e Salvador demoram mais que o dobro.\n",
        "\n",
        "As estimativas de entrega são, em média, uma semana mais longas que o real, mostrando previsões conservadoras."
      ]
    },
    {
      "cell_type": "markdown",
      "source": [
        "Agora, vamos analisar se há variação sazonal nos prazos de entrega:"
      ],
      "metadata": {
        "id": "evVC1hlxS4Fe"
      },
      "id": "evVC1hlxS4Fe"
    },
    {
      "cell_type": "code",
      "execution_count": null,
      "id": "ca1aa474",
      "metadata": {
        "execution": {
          "iopub.execute_input": "2024-04-29T15:32:43.291994Z",
          "iopub.status.busy": "2024-04-29T15:32:43.290064Z",
          "iopub.status.idle": "2024-04-29T15:32:43.642284Z",
          "shell.execute_reply": "2024-04-29T15:32:43.641505Z"
        },
        "papermill": {
          "duration": 0.423382,
          "end_time": "2024-04-29T15:32:43.644399",
          "exception": false,
          "start_time": "2024-04-29T15:32:43.221017",
          "status": "completed"
        },
        "tags": [],
        "id": "ca1aa474"
      },
      "outputs": [],
      "source": [
        "#vamos criar uma query para calcular o tempo médio de entrega por DIA\n",
        "daily_avg_shipping_time = \"\"\"\n",
        "SELECT\n",
        "    -- Cpmvertemos o timestamp da compra em apenas data (sem hora)\n",
        "    DATE(order_purchase_timestamp) AS purchase_date,\n",
        "    -- Calculamos o tempo médio (em dias) entre a compra e a entrega ao cliente\n",
        "    AVG(JULIANDAY(order_delivered_customer_date) - JULIANDAY(order_purchase_timestamp))\n",
        "        AS avg_delivery_time\n",
        "FROM orders\n",
        "-- Usamos apenas os pedidos dentro do período de 1 ano (jun/2017 a jun/2018)\n",
        "WHERE order_purchase_timestamp >= '2017-06-01' AND order_purchase_timestamp <= '2018-06-30'\n",
        "-- Agrupamos por data de compra para obter a média diária\n",
        "GROUP BY DATE(order_purchase_timestamp)\n",
        "\"\"\"\n",
        "\n",
        "df = pd.read_sql_query(daily_avg_shipping_time, conn)\n",
        "df"
      ]
    },
    {
      "cell_type": "markdown",
      "id": "d69940ad",
      "metadata": {
        "papermill": {
          "duration": 0.063418,
          "end_time": "2024-04-29T15:32:43.770682",
          "exception": false,
          "start_time": "2024-04-29T15:32:43.707264",
          "status": "completed"
        },
        "tags": [],
        "id": "d69940ad"
      },
      "source": [
        "Plotando um gráfico de linha, conseguimos colocar uma linha em vermelho pra nos mostrar o tempo médio global de entrega durante o período."
      ]
    },
    {
      "cell_type": "code",
      "execution_count": null,
      "id": "9f0462b9",
      "metadata": {
        "execution": {
          "iopub.execute_input": "2024-04-29T15:32:43.901370Z",
          "iopub.status.busy": "2024-04-29T15:32:43.900313Z",
          "iopub.status.idle": "2024-04-29T15:32:44.434777Z",
          "shell.execute_reply": "2024-04-29T15:32:44.433620Z"
        },
        "papermill": {
          "duration": 0.603118,
          "end_time": "2024-04-29T15:32:44.437514",
          "exception": false,
          "start_time": "2024-04-29T15:32:43.834396",
          "status": "completed"
        },
        "tags": [],
        "id": "9f0462b9"
      },
      "outputs": [],
      "source": [
        "plt.figure(figsize=(15, 6))\n",
        "plt.plot(pd.to_datetime(df['purchase_date']), df['avg_delivery_time'], label='Média diária', color='green')\n",
        "plt.axhline(y=df['avg_delivery_time'].mean(), color='red', linestyle='--', label='Média anual')\n",
        "plt.ylabel('Dias')\n",
        "plt.title('Tempo médio de entrega (de Junho 2017 até Junho 2018)')\n",
        "plt.gca().xaxis.set_major_locator(mdates.MonthLocator())\n",
        "plt.xticks(rotation=45)\n",
        "plt.legend()\n",
        "plt.show()"
      ]
    },
    {
      "cell_type": "markdown",
      "id": "e73862e0",
      "metadata": {
        "papermill": {
          "duration": 0.064279,
          "end_time": "2024-04-29T15:32:44.566259",
          "exception": false,
          "start_time": "2024-04-29T15:32:44.501980",
          "status": "completed"
        },
        "tags": [],
        "id": "e73862e0"
      },
      "source": [
        "Como podemos ver, há dois períodos em que o tempo de entrega foi significativamente maior que a média: dezembro de 2017 e fevereiro–março de 2018.\n",
        "\n",
        "Os atrasos em dezembro provavelmente foram causados pelo movimento intenso das festas de fim de ano, enquanto os de fevereiro–março podem ter sido resultado das [greves](https://agenciabrasil.ebc.com.br/geral/noticia/2018-03/contra-mudancas-no-plano-de-saude-trabalhadores-dos-correios-fazem-ato-no-rio) dos correios que ocorreram em alguns estados do Brasil nesse período."
      ]
    },
    {
      "cell_type": "markdown",
      "id": "ac473061",
      "metadata": {
        "papermill": {
          "duration": 0.062981,
          "end_time": "2024-04-29T15:32:44.694092",
          "exception": false,
          "start_time": "2024-04-29T15:32:44.631111",
          "status": "completed"
        },
        "tags": [],
        "id": "ac473061"
      },
      "source": [
        "# Avaliações de pedidos\n",
        "\n",
        "O banco de dados possui uma tabela de avaliações, onde os clientes atribuem notas de 1 a 5 e podem deixar comentários. Vamos ver as colunas usadas na análise."
      ]
    },
    {
      "cell_type": "code",
      "execution_count": null,
      "id": "7b7bc516",
      "metadata": {
        "execution": {
          "iopub.execute_input": "2024-04-29T15:32:44.824653Z",
          "iopub.status.busy": "2024-04-29T15:32:44.823850Z",
          "iopub.status.idle": "2024-04-29T15:32:44.847085Z",
          "shell.execute_reply": "2024-04-29T15:32:44.846057Z"
        },
        "papermill": {
          "duration": 0.093208,
          "end_time": "2024-04-29T15:32:44.849448",
          "exception": false,
          "start_time": "2024-04-29T15:32:44.756240",
          "status": "completed"
        },
        "tags": [],
        "id": "7b7bc516"
      },
      "outputs": [],
      "source": [
        "view_table('order_reviews', 5).iloc[:, [1, 2, 4]]"
      ]
    },
    {
      "cell_type": "markdown",
      "id": "b46595b8",
      "metadata": {
        "papermill": {
          "duration": 0.064271,
          "end_time": "2024-04-29T15:32:44.979534",
          "exception": false,
          "start_time": "2024-04-29T15:32:44.915263",
          "status": "completed"
        },
        "tags": [],
        "id": "b46595b8"
      },
      "source": [
        "Vamos contar quantos pedidos tem para cada nota de aval:"
      ]
    },
    {
      "cell_type": "code",
      "execution_count": null,
      "id": "eabc9cb1",
      "metadata": {
        "execution": {
          "iopub.execute_input": "2024-04-29T15:32:45.110930Z",
          "iopub.status.busy": "2024-04-29T15:32:45.110471Z",
          "iopub.status.idle": "2024-04-29T15:32:45.378725Z",
          "shell.execute_reply": "2024-04-29T15:32:45.377643Z"
        },
        "papermill": {
          "duration": 0.337862,
          "end_time": "2024-04-29T15:32:45.381041",
          "exception": false,
          "start_time": "2024-04-29T15:32:45.043179",
          "status": "completed"
        },
        "tags": [],
        "id": "eabc9cb1"
      },
      "outputs": [],
      "source": [
        "review_score_count = \"\"\"\n",
        "SELECT\n",
        "    review_score,\n",
        "    COUNT(*) AS count\n",
        "FROM order_reviews\n",
        "GROUP BY review_score\n",
        "\"\"\"\n",
        "df = pd.read_sql_query(review_score_count, conn)\n",
        "df"
      ]
    },
    {
      "cell_type": "code",
      "execution_count": null,
      "id": "fcfe58e3",
      "metadata": {
        "execution": {
          "iopub.execute_input": "2024-04-29T15:32:45.513303Z",
          "iopub.status.busy": "2024-04-29T15:32:45.512934Z",
          "iopub.status.idle": "2024-04-29T15:32:46.183087Z",
          "shell.execute_reply": "2024-04-29T15:32:46.182239Z"
        },
        "papermill": {
          "duration": 0.739111,
          "end_time": "2024-04-29T15:32:46.185353",
          "exception": false,
          "start_time": "2024-04-29T15:32:45.446242",
          "status": "completed"
        },
        "tags": [],
        "id": "fcfe58e3"
      },
      "outputs": [],
      "source": [
        "plt.figure(figsize=(10,6))\n",
        "colors = ['#BC2023', '#EB442C', '#F8B324', '#6da814', '#0C6B37']\n",
        "sns.barplot(x='review_score', y='count', data=df, hue='review_score', palette=colors, dodge=False)\n",
        "plt.title('Distribuição das notas')\n",
        "plt.xlabel('Nota de avaliação')\n",
        "plt.ylabel('Quantidade')\n",
        "plt.legend().remove()\n",
        "plt.tight_layout()\n",
        "plt.show()\n"
      ]
    },
    {
      "cell_type": "markdown",
      "id": "5a45290c",
      "metadata": {
        "papermill": {
          "duration": 0.066491,
          "end_time": "2024-04-29T15:32:46.317400",
          "exception": false,
          "start_time": "2024-04-29T15:32:46.250909",
          "status": "completed"
        },
        "tags": [],
        "id": "5a45290c"
      },
      "source": [
        "Podemos observar que a maioria das avaliações são positivas, mas ainda há um número considerável de clientes insatisfeitos.\n",
        "\n",
        "Para entender o motivo, vamos gerar uma nuvem de palavras com os comentários que receberam nota 1 ou 2, unindo todas as mensagens com a função GROUP_CONCAT do SQL"
      ]
    },
    {
      "cell_type": "code",
      "execution_count": null,
      "id": "da623525",
      "metadata": {
        "execution": {
          "iopub.execute_input": "2024-04-29T15:32:46.449487Z",
          "iopub.status.busy": "2024-04-29T15:32:46.449123Z",
          "iopub.status.idle": "2024-04-29T15:32:46.662557Z",
          "shell.execute_reply": "2024-04-29T15:32:46.661350Z"
        },
        "papermill": {
          "duration": 0.282596,
          "end_time": "2024-04-29T15:32:46.665014",
          "exception": false,
          "start_time": "2024-04-29T15:32:46.382418",
          "status": "completed"
        },
        "tags": [],
        "id": "da623525"
      },
      "outputs": [],
      "source": [
        "comments_negativos = \"\"\"\n",
        "SELECT GROUP_CONCAT(review_comment_message, ' ') AS comments\n",
        "FROM order_reviews\n",
        "WHERE review_score IN (1,2)\n",
        "\"\"\"\n",
        "\n",
        "comments_negativos_df = pd.read_sql(comments_negativos, conn)['comments'][0]\n",
        "comments_negativos_df[:150]"
      ]
    },
    {
      "cell_type": "code",
      "execution_count": null,
      "id": "80b41e3c",
      "metadata": {
        "execution": {
          "iopub.execute_input": "2024-04-29T15:32:46.798002Z",
          "iopub.status.busy": "2024-04-29T15:32:46.797243Z",
          "iopub.status.idle": "2024-04-29T15:32:51.359512Z",
          "shell.execute_reply": "2024-04-29T15:32:51.358568Z"
        },
        "papermill": {
          "duration": 4.637846,
          "end_time": "2024-04-29T15:32:51.367484",
          "exception": false,
          "start_time": "2024-04-29T15:32:46.729638",
          "status": "completed"
        },
        "tags": [],
        "id": "80b41e3c"
      },
      "outputs": [],
      "source": [
        "## gerando a nuvem de palavras\n",
        "from wordcloud import WordCloud\n",
        "\n",
        "wordcloud = WordCloud(width=1600, height=800, background_color='white').generate(comments_negativos_df)\n",
        "plt.figure(figsize=(15, 8))\n",
        "plt.imshow(wordcloud)\n",
        "plt.axis(\"off\")\n",
        "plt.show()"
      ]
    },
    {
      "cell_type": "markdown",
      "id": "c2750281",
      "metadata": {
        "papermill": {
          "duration": 0.077091,
          "end_time": "2024-04-29T15:32:51.527880",
          "exception": false,
          "start_time": "2024-04-29T15:32:51.450789",
          "status": "completed"
        },
        "tags": [],
        "id": "c2750281"
      },
      "source": [
        "A principal causa dos comentários negativos está relacionada a atrasos na entrega, enquanto a insatisfação com a qualidade do produto ou erros no pedido aparentam ser fatores secundários."
      ]
    },
    {
      "cell_type": "markdown",
      "id": "610ccb8c",
      "metadata": {
        "papermill": {
          "duration": 0.077595,
          "end_time": "2024-04-29T15:33:00.975990",
          "exception": false,
          "start_time": "2024-04-29T15:33:00.898395",
          "status": "completed"
        },
        "tags": [],
        "id": "610ccb8c"
      },
      "source": [
        "# Valor do tempo de vida do cliente\n",
        "\n",
        "Valor do tempo de vida do cliente (LTV) é uma métrica que estima o valor total que um cliente trará ao longo do relacionamento com a empresa. Vamos calcular o LTV usando a tabela 'order_payments', que mostra os pagamentos e métodos utilizados."
      ]
    },
    {
      "cell_type": "code",
      "execution_count": null,
      "id": "122c4dc2",
      "metadata": {
        "execution": {
          "iopub.execute_input": "2024-04-29T15:33:01.134332Z",
          "iopub.status.busy": "2024-04-29T15:33:01.133368Z",
          "iopub.status.idle": "2024-04-29T15:33:01.162370Z",
          "shell.execute_reply": "2024-04-29T15:33:01.161397Z"
        },
        "papermill": {
          "duration": 0.11032,
          "end_time": "2024-04-29T15:33:01.164713",
          "exception": false,
          "start_time": "2024-04-29T15:33:01.054393",
          "status": "completed"
        },
        "tags": [],
        "id": "122c4dc2"
      },
      "outputs": [],
      "source": [
        "view_table('order_payments', 5)"
      ]
    },
    {
      "cell_type": "markdown",
      "id": "71124428",
      "metadata": {
        "papermill": {
          "duration": 0.076385,
          "end_time": "2024-04-29T15:33:01.318992",
          "exception": false,
          "start_time": "2024-04-29T15:33:01.242607",
          "status": "completed"
        },
        "tags": [],
        "id": "71124428"
      },
      "source": [
        "Para começar, vamos calcular os componentes do LTV para cada cliente:\n",
        "\n",
        "Frequência de Compra (FC): número de pedidos feitos pelo cliente.\n",
        "\n",
        "Valor Médio do Pedido (VMP): total pago dividido pelo número de pedidos.\n",
        "\n",
        "Tempo Médio de Vida do Cliente (TMVC): número de semanas entre o primeiro e o último pedido (mínimo de 1).\n",
        "\n",
        "Para deixar o código mais claro, usaremos uma tabela comum para reunir os dados necessários e, em seguida, calcular cada componente do LTV na consulta principal."
      ]
    },
    {
      "cell_type": "code",
      "execution_count": null,
      "id": "fc1c120b",
      "metadata": {
        "execution": {
          "iopub.execute_input": "2024-04-29T15:33:01.476569Z",
          "iopub.status.busy": "2024-04-29T15:33:01.476190Z",
          "iopub.status.idle": "2024-04-29T15:33:03.971962Z",
          "shell.execute_reply": "2024-04-29T15:33:03.970911Z"
        },
        "papermill": {
          "duration": 2.576435,
          "end_time": "2024-04-29T15:33:03.974187",
          "exception": false,
          "start_time": "2024-04-29T15:33:01.397752",
          "status": "completed"
        },
        "tags": [],
        "id": "fc1c120b"
      },
      "outputs": [],
      "source": [
        "cte = \"\"\"\n",
        "-- Criamos uma CTE (subquery nomeada) chamada CustomerData\n",
        "-- Ela reúne os dados principais de cada cliente (pedidos, pagamentos e datas)\n",
        "WITH CustomerData AS (\n",
        "    SELECT\n",
        "        customer_unique_id,\n",
        "        customer_zip_code_prefix AS zip_code_prefix,\n",
        "        COUNT(DISTINCT orders.order_id) AS order_count,\n",
        "        SUM(payment_value) AS total_payment,\n",
        "        JULIANDAY(MIN(order_purchase_timestamp)) AS first_order_day,\n",
        "        JULIANDAY(MAX(order_purchase_timestamp)) AS last_order_day\n",
        "    FROM customers\n",
        "        JOIN orders USING (customer_id)\n",
        "        JOIN order_payments USING (order_id)\n",
        "    GROUP BY customer_unique_id\n",
        ")\n",
        "\n",
        "-- A partir da CTE, calculamos os indicadores de valor do cliente (CLV)\n",
        "SELECT\n",
        "    customer_unique_id,\n",
        "    zip_code_prefix,\n",
        "    order_count AS FC,\n",
        "    total_payment / order_count AS VMP,\n",
        "    CASE\n",
        "     -- Se a diferença entre o primeiro e último pedido for menor que 7 dias, define o tempo mínimo como 1 semana\n",
        "        WHEN (last_order_day - first_order_day) < 7 THEN 1\n",
        "            -- Caso contrário, calcula o tempo médio de vida do cliente em semanas\n",
        "        ELSE\n",
        "            (last_order_day - first_order_day) / 7\n",
        "        END AS TMVC -- Tempo médio de vida do cliente\n",
        "FROM CustomerData\n",
        "\"\"\"\n",
        "\n",
        "pd.read_sql(cte, conn)"
      ]
    },
    {
      "cell_type": "markdown",
      "id": "7cabe27c",
      "metadata": {
        "papermill": {
          "duration": 0.082835,
          "end_time": "2024-04-29T15:33:04.137128",
          "exception": false,
          "start_time": "2024-04-29T15:33:04.054293",
          "status": "completed"
        },
        "tags": [],
        "id": "7cabe27c"
      },
      "source": [
        "Para criar um mapa da distribuição do LTV pelo Brasil, também precisamos adicionar a latitude e a longitude de cada prefixo do CEP, que podem ser encontradas na tabela 'geolocation'."
      ]
    },
    {
      "cell_type": "code",
      "execution_count": null,
      "id": "441ae781",
      "metadata": {
        "execution": {
          "iopub.execute_input": "2024-04-29T15:33:04.292879Z",
          "iopub.status.busy": "2024-04-29T15:33:04.292443Z",
          "iopub.status.idle": "2024-04-29T15:33:04.316295Z",
          "shell.execute_reply": "2024-04-29T15:33:04.315182Z"
        },
        "papermill": {
          "duration": 0.104461,
          "end_time": "2024-04-29T15:33:04.318605",
          "exception": false,
          "start_time": "2024-04-29T15:33:04.214144",
          "status": "completed"
        },
        "tags": [],
        "id": "441ae781"
      },
      "outputs": [],
      "source": [
        "view_table('geolocation', 5)"
      ]
    },
    {
      "cell_type": "markdown",
      "id": "ab3461dc",
      "metadata": {
        "papermill": {
          "duration": 0.077216,
          "end_time": "2024-04-29T15:33:04.477452",
          "exception": false,
          "start_time": "2024-04-29T15:33:04.400236",
          "status": "completed"
        },
        "tags": [],
        "id": "ab3461dc"
      },
      "source": [
        "sabe-se que CLV = FC × VMP × TMVC\n",
        "onde:\n",
        "\n",
        "FC = Frequência de compras (quantas vezes o cliente comprou)\n",
        "\n",
        "VMP = Valor médio por pedido\n",
        "\n",
        "TMVC = Tempo médio de vida do cliente"
      ]
    },
    {
      "cell_type": "code",
      "execution_count": null,
      "id": "8b24be47",
      "metadata": {
        "execution": {
          "iopub.execute_input": "2024-04-29T15:33:04.632723Z",
          "iopub.status.busy": "2024-04-29T15:33:04.632360Z",
          "iopub.status.idle": "2024-04-29T15:33:33.776873Z",
          "shell.execute_reply": "2024-04-29T15:33:33.775691Z"
        },
        "papermill": {
          "duration": 29.224584,
          "end_time": "2024-04-29T15:33:33.779368",
          "exception": false,
          "start_time": "2024-04-29T15:33:04.554784",
          "status": "completed"
        },
        "tags": [],
        "id": "8b24be47"
      },
      "outputs": [],
      "source": [
        "clv_por_cep = f\"\"\"\n",
        "WITH CustomerData AS (\n",
        "    SELECT\n",
        "        customer_unique_id,\n",
        "        customer_zip_code_prefix AS zip_code_prefix,\n",
        "        COUNT(DISTINCT orders.order_id) AS FP, -- Frequência de compras\n",
        "        SUM(payment_value) / COUNT(DISTINCT orders.order_id) AS VMP, -- Valor médio por pedido\n",
        "        CASE\n",
        "            WHEN (JULIANDAY(MAX(order_purchase_timestamp)) - JULIANDAY(MIN(order_purchase_timestamp))) < 7 THEN 1\n",
        "            ELSE (JULIANDAY(MAX(order_purchase_timestamp)) - JULIANDAY(MIN(order_purchase_timestamp))) / 7\n",
        "        END AS TMVC -- Tempo médio de vida do cliente (em semanas)\n",
        "    FROM customers\n",
        "        JOIN orders USING (customer_id)\n",
        "        JOIN order_payments USING (order_id)\n",
        "    GROUP BY customer_unique_id\n",
        "),\n",
        "CLVPorCEP AS (\n",
        "    SELECT\n",
        "        zip_code_prefix,\n",
        "        AVG(FP * VMP * TMVC) AS CLV_medio,\n",
        "        COUNT(*) AS numero_clientes\n",
        "    FROM CustomerData\n",
        "    GROUP BY zip_code_prefix\n",
        ")\n",
        "SELECT\n",
        "    c.zip_code_prefix,\n",
        "    c.CLV_medio,\n",
        "    c.numero_clientes,\n",
        "    g.geolocation_lat AS latitude,\n",
        "    g.geolocation_lng AS longitude\n",
        "FROM CLVPorCEP c\n",
        "JOIN geolocation g\n",
        "    ON c.zip_code_prefix = g.geolocation_zip_code_prefix\n",
        "GROUP BY c.zip_code_prefix\n",
        "\"\"\""
      ]
    },
    {
      "cell_type": "code",
      "source": [
        "df = pd.read_sql(clv_por_cep, conn)\n",
        "print(df.columns)"
      ],
      "metadata": {
        "id": "_n9B_uCmhVD2"
      },
      "id": "_n9B_uCmhVD2",
      "execution_count": null,
      "outputs": []
    },
    {
      "cell_type": "markdown",
      "id": "14481504",
      "metadata": {
        "papermill": {
          "duration": 0.078502,
          "end_time": "2024-04-29T15:33:33.936990",
          "exception": false,
          "start_time": "2024-04-29T15:33:33.858488",
          "status": "completed"
        },
        "tags": [],
        "id": "14481504"
      },
      "source": [
        "Podemos criar um mapa usando a biblioteca folium do python!\n",
        "https://realpython.com/python-folium-web-maps-from-data/"
      ]
    },
    {
      "cell_type": "code",
      "execution_count": null,
      "id": "da2684a0",
      "metadata": {
        "execution": {
          "iopub.execute_input": "2024-04-29T15:33:34.096198Z",
          "iopub.status.busy": "2024-04-29T15:33:34.095770Z",
          "iopub.status.idle": "2024-04-29T15:34:06.357600Z",
          "shell.execute_reply": "2024-04-29T15:34:06.355661Z"
        },
        "papermill": {
          "duration": 33.440227,
          "end_time": "2024-04-29T15:34:07.455934",
          "exception": false,
          "start_time": "2024-04-29T15:33:34.015707",
          "status": "completed"
        },
        "tags": [],
        "id": "da2684a0"
      },
      "outputs": [],
      "source": [
        "import folium\n",
        "import numpy as np\n",
        "\n",
        "mapa = folium.Map(location=[-14.2350, -51.9253], zoom_start=4)\n",
        "\n",
        "for i, linha in df.iterrows():\n",
        "    folium.CircleMarker(\n",
        "        location=[linha['latitude'], linha['longitude']],\n",
        "        radius=0.1 * np.sqrt(linha['numero_clientes']),\n",
        "        color=None,\n",
        "        fill_color='#85001d',\n",
        "        fill_opacity=0.1 + 0.1 * np.sqrt(linha['CLV_medio'] / df['CLV_medio'].max()),\n",
        "        popup=(\n",
        "            f\"<b>Prefixo CEP:</b> {int(linha['zip_code_prefix'])}<br>\"\n",
        "            f\"<b>CLV Médio:</b> {linha['CLV_medio']:.2f}<br>\"\n",
        "            f\"<b>Clientes:</b> {int(linha['numero_clientes'])}\"\n",
        "        )\n",
        "    ).add_to(mapa)\n",
        "\n",
        "mapa\n",
        "\n"
      ]
    },
    {
      "cell_type": "markdown",
      "id": "acb20903",
      "metadata": {
        "papermill": {
          "duration": 0.758789,
          "end_time": "2024-04-29T15:34:08.932750",
          "exception": false,
          "start_time": "2024-04-29T15:34:08.173961",
          "status": "completed"
        },
        "tags": [],
        "id": "acb20903"
      },
      "source": [
        "Como podemos ver no mapa, a maior parte do valor dos clientes dos vendedores da Olist está concentrada no sudeste do Brasil, nas regiões mais populosas — principalmente no estado de São Paulo e nas áreas próximas às cidades do Rio de Janeiro e Belo Horizonte."
      ]
    },
    {
      "cell_type": "markdown",
      "id": "ef2f65ca",
      "metadata": {
        "papermill": {
          "duration": 0.712908,
          "end_time": "2024-04-29T15:34:10.383553",
          "exception": false,
          "start_time": "2024-04-29T15:34:09.670645",
          "status": "completed"
        },
        "tags": [],
        "id": "ef2f65ca"
      },
      "source": [
        "<br>"
      ]
    },
    {
      "cell_type": "markdown",
      "id": "a414252a",
      "metadata": {
        "papermill": {
          "duration": 0.680632,
          "end_time": "2024-04-29T15:34:26.095747",
          "exception": false,
          "start_time": "2024-04-29T15:34:25.415115",
          "status": "completed"
        },
        "tags": [],
        "id": "a414252a"
      },
      "source": [
        "# Vendedores\n",
        "\n",
        "vamos ver as primeiras linhas da tabela 'sellers'"
      ]
    },
    {
      "cell_type": "code",
      "execution_count": null,
      "id": "f70083e2",
      "metadata": {
        "execution": {
          "iopub.execute_input": "2024-04-29T15:34:27.492890Z",
          "iopub.status.busy": "2024-04-29T15:34:27.492196Z",
          "iopub.status.idle": "2024-04-29T15:34:27.512849Z",
          "shell.execute_reply": "2024-04-29T15:34:27.511742Z"
        },
        "papermill": {
          "duration": 0.737205,
          "end_time": "2024-04-29T15:34:27.515306",
          "exception": false,
          "start_time": "2024-04-29T15:34:26.778101",
          "status": "completed"
        },
        "tags": [],
        "id": "f70083e2"
      },
      "outputs": [],
      "source": [
        "view_table('sellers', 5)"
      ]
    },
    {
      "cell_type": "markdown",
      "id": "ea7a2e8a",
      "metadata": {
        "papermill": {
          "duration": 0.782408,
          "end_time": "2024-04-29T15:34:29.023796",
          "exception": false,
          "start_time": "2024-04-29T15:34:28.241388",
          "status": "completed"
        },
        "tags": [],
        "id": "ea7a2e8a"
      },
      "source": [
        "como os vendedores são em sua maioria?\n",
        "pequenos com poucas vendas ou grandes com alto volume? E como as avaliações variam entre eles?\n",
        "Podemos responder a isso com um gráfico de dispersão talvez, usando dados da tabela 'sellers'."
      ]
    },
    {
      "cell_type": "code",
      "execution_count": null,
      "id": "f453946c",
      "metadata": {
        "execution": {
          "iopub.execute_input": "2024-04-29T15:34:30.445262Z",
          "iopub.status.busy": "2024-04-29T15:34:30.444842Z",
          "iopub.status.idle": "2024-04-29T15:34:32.498190Z",
          "shell.execute_reply": "2024-04-29T15:34:32.497063Z"
        },
        "papermill": {
          "duration": 2.768618,
          "end_time": "2024-04-29T15:34:32.500730",
          "exception": false,
          "start_time": "2024-04-29T15:34:29.732112",
          "status": "completed"
        },
        "tags": [],
        "id": "f453946c"
      },
      "outputs": [],
      "source": [
        "# Consulta SQL para analisar a relação entre volume de vendas e pontuação média de avaliações dos vendedores\n",
        "seller_review_scores_and_sales = '''\n",
        "SELECT\n",
        "    sellers.seller_id,  -- Identificador único de cada vendedor\n",
        "    AVG(order_reviews.review_score) AS avg_review_score,  -- Média das notas de avaliação recebidas\n",
        "    SUM(order_items.price) AS total_sales,                -- Soma total das vendas realizadas (receita bruta)\n",
        "    COUNT(orders.order_id) AS num_orders                  -- Quantidade de pedidos feitos ao vendedor\n",
        "FROM\n",
        "    sellers\n",
        "    -- Associa os itens de pedido para saber o que cada vendedor vendeu\n",
        "    LEFT JOIN order_items ON sellers.seller_id = order_items.seller_id\n",
        "    -- Conecta os pedidos para relacionar vendas e avaliações\n",
        "    LEFT JOIN orders ON order_items.order_id = orders.order_id\n",
        "    -- Junta as avaliações dos clientes aos pedidos\n",
        "    LEFT JOIN order_reviews ON orders.order_id = order_reviews.order_id\n",
        "GROUP BY\n",
        "    sellers.seller_id  -- Agrupa as métricas por vendedor\n",
        "HAVING\n",
        "    COUNT(orders.order_id) > 10  -- Mantém apenas vendedores com mais de 10 pedidos (filtra outliers e dados irrelevantes)\n",
        "'''\n",
        "\n",
        "df = pd.read_sql_query(seller_review_scores_and_sales, conn)\n",
        "df"
      ]
    },
    {
      "cell_type": "markdown",
      "id": "bafe5ff5",
      "metadata": {
        "papermill": {
          "duration": 0.72213,
          "end_time": "2024-04-29T15:34:34.060793",
          "exception": false,
          "start_time": "2024-04-29T15:34:33.338663",
          "status": "completed"
        },
        "tags": [],
        "id": "bafe5ff5"
      },
      "source": [
        "Podemos criar um gráfico de dispersão onde cada ponto representa um vendedor:\n",
        "no eixo Y estará a média das avaliações dos pedidos, no eixo X, o total de vendas, exibido em escala logarítmica (já que a maioria vende pouco). Além disso, a cor e o tamanho dos pontos indicarão a quantidade de pedidos de cada vendedor."
      ]
    },
    {
      "cell_type": "code",
      "execution_count": null,
      "id": "7d92496c",
      "metadata": {
        "execution": {
          "iopub.execute_input": "2024-04-29T15:34:35.487610Z",
          "iopub.status.busy": "2024-04-29T15:34:35.486966Z",
          "iopub.status.idle": "2024-04-29T15:34:36.507260Z",
          "shell.execute_reply": "2024-04-29T15:34:36.505918Z"
        },
        "papermill": {
          "duration": 1.751604,
          "end_time": "2024-04-29T15:34:36.511660",
          "exception": false,
          "start_time": "2024-04-29T15:34:34.760056",
          "status": "completed"
        },
        "tags": [],
        "id": "7d92496c"
      },
      "outputs": [],
      "source": [
        "plt.figure(figsize=(15, 8))\n",
        "sns.scatterplot(data=df, x='total_sales', y='avg_review_score', size='num_orders', sizes=(10, 500),\n",
        "                hue='num_orders', palette=\"crest\", alpha=0.7)\n",
        "plt.xscale('log')\n",
        "plt.xlabel('Total de vendas (escala logarítmica)')\n",
        "plt.ylabel('Média das notas de avaliação')\n",
        "plt.title('Vendedores: Notas de avaliação x vendas')\n",
        "plt.legend(title='Número de pedidos')\n",
        "plt.show()"
      ]
    },
    {
      "cell_type": "markdown",
      "id": "ff1a2b9d",
      "metadata": {
        "papermill": {
          "duration": 0.738558,
          "end_time": "2024-04-29T15:34:37.984554",
          "exception": false,
          "start_time": "2024-04-29T15:34:37.245996",
          "status": "completed"
        },
        "tags": [],
        "id": "ff1a2b9d"
      },
      "source": [
        "A maioria dos vendedores da Olist é pequena, com poucas vendas.\n",
        "Vendedores maiores têm avaliações mais estáveis, geralmente entre 3.5 e 4.5.\n",
        "À direita do gráfico, destaca-se um grande vendedor (coloração mais roxa) com notas bem abaixo dos demais.\n",
        "\n",
        "Também tem casos de vendedores com o mesmo total de vendas, mas com diferentes números de pedidos — indicando valores médios por pedido distintos."
      ]
    },
    {
      "cell_type": "markdown",
      "id": "4fec295e",
      "metadata": {
        "papermill": {
          "duration": 0.757636,
          "end_time": "2024-04-29T15:34:39.496594",
          "exception": false,
          "start_time": "2024-04-29T15:34:38.738958",
          "status": "completed"
        },
        "tags": [],
        "id": "4fec295e"
      },
      "source": [
        "Vamos tentar criar outro gráfico para entender melhor como os vendedores se distribuem pelo volume de pedidos.\n",
        "\n",
        "Para isso, vamos agrupá-los em 4 categorias com base na quantidade total de pedidos enviados:\n",
        "\n",
        "- Grupo 1: 1 a 9 pedidos\n",
        "- Grupo 2: 10 a 99 pedidos\n",
        "- Grupo 3: 100 a 999 pedidos\n",
        "- Grupo 4: 1000 ou mais pedidos"
      ]
    },
    {
      "cell_type": "code",
      "execution_count": null,
      "id": "57ca6ebb",
      "metadata": {
        "execution": {
          "iopub.execute_input": "2024-04-29T15:34:40.933404Z",
          "iopub.status.busy": "2024-04-29T15:34:40.932998Z",
          "iopub.status.idle": "2024-04-29T15:34:41.276512Z",
          "shell.execute_reply": "2024-04-29T15:34:41.275385Z"
        },
        "papermill": {
          "duration": 1.055677,
          "end_time": "2024-04-29T15:34:41.278904",
          "exception": false,
          "start_time": "2024-04-29T15:34:40.223227",
          "status": "completed"
        },
        "tags": [],
        "id": "57ca6ebb"
      },
      "outputs": [],
      "source": [
        "vendedores_segmentados = \"\"\"\n",
        "SELECT\n",
        "    seller_id,\n",
        "    CASE\n",
        "        WHEN COUNT(order_id) BETWEEN 1 AND 9 THEN '1-9 orders'\n",
        "        WHEN COUNT(order_id) BETWEEN 10 AND 99 THEN '10-99 orders'\n",
        "        WHEN COUNT(order_id) BETWEEN 100 AND 999 THEN '100-999 orders'\n",
        "        ELSE '1000+ orders'\n",
        "    END AS bucket\n",
        "FROM order_items\n",
        "GROUP BY seller_id\n",
        "\"\"\"\n",
        "\n",
        "pd.read_sql_query(vendedores_segmentados, conn).head(5)"
      ]
    },
    {
      "cell_type": "code",
      "execution_count": null,
      "id": "fe2567f4",
      "metadata": {
        "execution": {
          "iopub.execute_input": "2024-04-29T15:34:42.650949Z",
          "iopub.status.busy": "2024-04-29T15:34:42.649614Z",
          "iopub.status.idle": "2024-04-29T15:34:42.981305Z",
          "shell.execute_reply": "2024-04-29T15:34:42.980130Z"
        },
        "papermill": {
          "duration": 1.020114,
          "end_time": "2024-04-29T15:34:42.983608",
          "exception": false,
          "start_time": "2024-04-29T15:34:41.963494",
          "status": "completed"
        },
        "tags": [],
        "id": "fe2567f4"
      },
      "outputs": [],
      "source": [
        "vendedores_por_segmento = f\"\"\"\n",
        "WITH VendedoresSegmentados AS (\n",
        "    {vendedores_segmentados}\n",
        ")\n",
        "SELECT\n",
        "    bucket,\n",
        "    COUNT(seller_id) AS seller_count\n",
        "FROM VendedoresSegmentados\n",
        "GROUP BY bucket\n",
        "\"\"\"\n",
        "\n",
        "seller_buckets = pd.read_sql_query(vendedores_por_segmento, conn)\n",
        "seller_buckets\n"
      ]
    },
    {
      "cell_type": "markdown",
      "id": "9aa1d9d5",
      "metadata": {
        "papermill": {
          "duration": 0.697606,
          "end_time": "2024-04-29T15:34:44.399230",
          "exception": false,
          "start_time": "2024-04-29T15:34:43.701624",
          "status": "completed"
        },
        "tags": [],
        "id": "9aa1d9d5"
      },
      "source": [
        "Vamos visualizar o df."
      ]
    },
    {
      "cell_type": "code",
      "execution_count": null,
      "id": "6adc622d",
      "metadata": {
        "execution": {
          "iopub.execute_input": "2024-04-29T15:34:45.792269Z",
          "iopub.status.busy": "2024-04-29T15:34:45.791581Z",
          "iopub.status.idle": "2024-04-29T15:34:46.390047Z",
          "shell.execute_reply": "2024-04-29T15:34:46.389084Z"
        },
        "papermill": {
          "duration": 1.283401,
          "end_time": "2024-04-29T15:34:46.393511",
          "exception": false,
          "start_time": "2024-04-29T15:34:45.110110",
          "status": "completed"
        },
        "tags": [],
        "id": "6adc622d"
      },
      "outputs": [],
      "source": [
        "plt.figure(figsize=(12, 8))\n",
        "sns.barplot(x='bucket', y='seller_count', data=seller_buckets, hue='bucket', palette=\"magma\", dodge=False)\n",
        "plt.title('Número de vendedores por pedidos (agrupados)')\n",
        "plt.xlabel('Quantidade de pedidos por vendedor')\n",
        "plt.ylabel('Número de vendedores')\n",
        "plt.tight_layout()\n",
        "plt.show()"
      ]
    },
    {
      "cell_type": "markdown",
      "id": "15a8cd6e",
      "metadata": {
        "papermill": {
          "duration": 0.696256,
          "end_time": "2024-04-29T15:34:47.784097",
          "exception": false,
          "start_time": "2024-04-29T15:34:47.087841",
          "status": "completed"
        },
        "tags": [],
        "id": "15a8cd6e"
      },
      "source": [
        "Pode-se concluir que a maioria dos vendedores apresentam poucos pedidos (1 a 9 pedidos), e poucos vendedores ultrampassam 1000 pedidos, que é um valor alto de pedidos."
      ]
    },
    {
      "cell_type": "markdown",
      "id": "cfef42fc",
      "metadata": {
        "papermill": {
          "duration": 0.705036,
          "end_time": "2024-04-29T15:34:49.204326",
          "exception": false,
          "start_time": "2024-04-29T15:34:48.499290",
          "status": "completed"
        },
        "tags": [],
        "id": "cfef42fc"
      },
      "source": [
        "\n",
        "- Os grandes vendedores têm tempos de envio menores?\n",
        "- Para responder a essa pergunta, vamos tentar criar um gráfico com a distribuição do tempo de envio para cada um dos quatro grupos anteriores.\n",
        "- Vamos reutilizar a tabela anterior na consulta para obter os dados necessários."
      ]
    },
    {
      "cell_type": "code",
      "execution_count": null,
      "id": "4b93d949",
      "metadata": {
        "execution": {
          "iopub.execute_input": "2024-04-29T15:34:50.605531Z",
          "iopub.status.busy": "2024-04-29T15:34:50.604774Z",
          "iopub.status.idle": "2024-04-29T15:34:51.852942Z",
          "shell.execute_reply": "2024-04-29T15:34:51.851893Z"
        },
        "papermill": {
          "duration": 1.946508,
          "end_time": "2024-04-29T15:34:51.855441",
          "exception": false,
          "start_time": "2024-04-29T15:34:49.908933",
          "status": "completed"
        },
        "tags": [],
        "id": "4b93d949"
      },
      "outputs": [],
      "source": [
        "tempos_envio_vendedores = f\"\"\"\n",
        "-- Criamos uma CTE (tabela temporária) chamada 'VendedoresSegmentados'\n",
        "-- que reutiliza a query anterior, onde os vendedores foram agrupados\n",
        "-- em faixas (1-9 pedidos, 10-99, 100-999, 1000+)\n",
        "WITH VendedoresSegmentados AS (\n",
        "    {vendedores_segmentados}\n",
        ")\n",
        "\n",
        "-- Agora selecionamos os dados principais que queremos analisar\n",
        "\n",
        "SELECT\n",
        "    bucket,\n",
        "    VendedoresSegmentados.seller_id,\n",
        "    -- Calculamos o tempo de entrega em dias:\n",
        "    -- diferença entre a data de entrega ao cliente e a data da compra\n",
        "    JULIANDAY(order_delivered_customer_date) - JULIANDAY(order_purchase_timestamp) AS delivery_time\n",
        "FROM orders\n",
        "    -- Relacionamos a tabela de pedidos com os itens de pedido\n",
        "    JOIN order_items USING (order_id)\n",
        "    -- Ligamos também à tabela 'VendedoresSegmentados' para trazer o grupo de cada vendedor\n",
        "    JOIN VendedoresSegmentados USING (seller_id)\n",
        "WHERE order_status = 'delivered'\n",
        "\"\"\"\n",
        "\n",
        "df = pd.read_sql_query(tempos_envio_vendedores, conn)\n",
        "df"
      ]
    },
    {
      "cell_type": "markdown",
      "id": "24732f0b",
      "metadata": {
        "papermill": {
          "duration": 0.69753,
          "end_time": "2024-04-29T15:34:53.257209",
          "exception": false,
          "start_time": "2024-04-29T15:34:52.559679",
          "status": "completed"
        },
        "tags": [],
        "id": "24732f0b"
      },
      "source": [
        "Vamos criar quatro boxplots, correspondendo a cada grupo mostrado no gráfico anterior."
      ]
    },
    {
      "cell_type": "code",
      "execution_count": null,
      "id": "d6b12d81",
      "metadata": {
        "execution": {
          "iopub.execute_input": "2024-04-29T15:34:54.691403Z",
          "iopub.status.busy": "2024-04-29T15:34:54.690742Z",
          "iopub.status.idle": "2024-04-29T15:34:55.272664Z",
          "shell.execute_reply": "2024-04-29T15:34:55.271572Z"
        },
        "papermill": {
          "duration": 1.312076,
          "end_time": "2024-04-29T15:34:55.275250",
          "exception": false,
          "start_time": "2024-04-29T15:34:53.963174",
          "status": "completed"
        },
        "tags": [],
        "id": "d6b12d81"
      },
      "outputs": [],
      "source": [
        "plt.figure(figsize=(12, 8))\n",
        "\n",
        "# Cria uma paleta de cores com base no número de grupos de vendedores\n",
        "palette = sns.color_palette('magma', len(seller_buckets['bucket'].unique()))\n",
        "\n",
        "# Garante que a ordem dos grupos siga a ordem da variável 'bucket'\n",
        "ordem_buckets = seller_buckets['bucket'].unique()\n",
        "\n",
        "# Cria os boxplots com as cores e ajustes visuais\n",
        "sns.boxplot(\n",
        "    x='bucket',\n",
        "    y='delivery_time',\n",
        "    data=df,\n",
        "    order=ordem_buckets,\n",
        "    showfliers=False,   # remove outliers para um gráfico mais limpo\n",
        "    hue='bucket',\n",
        "    palette=palette,\n",
        "    dodge=False\n",
        ")\n",
        "\n",
        "plt.title('Tempo de entrega por volume de pedidos do vendedor', fontsize=14)\n",
        "plt.xlabel('Grupos de vendedores (por número de pedidos)', fontsize=12)\n",
        "plt.ylabel('Tempo de entrega (dias)', fontsize=12)\n",
        "plt.legend().remove()\n",
        "plt.show()\n"
      ]
    },
    {
      "cell_type": "markdown",
      "id": "0cffd71e",
      "metadata": {
        "papermill": {
          "duration": 0.688753,
          "end_time": "2024-04-29T15:34:56.679118",
          "exception": false,
          "start_time": "2024-04-29T15:34:55.990365",
          "status": "completed"
        },
        "tags": [],
        "id": "0cffd71e"
      },
      "source": [
        "Por algum motivo, quanto maior o vendedor, mais demoradas tendem a ser as entregas.\n",
        "\n",
        "Um análise futura pode ser a seguinte:\n",
        "- O que causa esse aumento no tempo de envio?\n",
        "- Será que os vendedores menores demoram menos entre a aprovação do pedido e a entrega do pacote à transportadora?"
      ]
    },
    {
      "cell_type": "markdown",
      "id": "f8bffb6d",
      "metadata": {
        "papermill": {
          "duration": 0.692981,
          "end_time": "2024-04-29T15:35:15.784504",
          "exception": false,
          "start_time": "2024-04-29T15:35:15.091523",
          "status": "completed"
        },
        "tags": [],
        "id": "f8bffb6d"
      },
      "source": [
        "<br>"
      ]
    },
    {
      "cell_type": "markdown",
      "id": "c9e0bf6e",
      "metadata": {
        "papermill": {
          "duration": 0.729783,
          "end_time": "2024-04-29T15:35:18.590547",
          "exception": false,
          "start_time": "2024-04-29T15:35:17.860764",
          "status": "completed"
        },
        "tags": [],
        "id": "c9e0bf6e"
      },
      "source": [
        "# Conclusão do projeto"
      ]
    },
    {
      "cell_type": "markdown",
      "source": [
        "Este projeto demonstrou como é possível conduzir uma análise completa de e-commerce utilizando apenas SQL para manipulação e exploração dos dados, com Python aplicado à visualização e storytelling dos resultados. A abordagem evidenciou o poder das CTEs, joins e funções agregadas do SQL em conjunto com as bibliotecas pandas, matplotlib, seaborn e folium para transformar dados brutos em insights acionáveis.\n",
        "\n",
        "\n",
        "A análise do dataset da Olist revelou padrões claros de comportamento e performance:\n",
        "\n",
        "  📈 Crescimento constante nas vendas, com picos notáveis em dezembro, impulsionados pelas compras de Natal.\n",
        "\n",
        "  ⏰ Maior volume de pedidos entre 10h e 16h nos dias úteis, reforçando a importância de campanhas matinais.\n",
        "\n",
        "  🏙️ Concentração de vendas nas grandes capitais, especialmente São Paulo e Rio de Janeiro, refletindo densidade populacional e poder de compra.\n",
        "\n",
        "  💸 Pedidos com valor médio em torno de R$160, predominando produtos leves e de ticket baixo.\n",
        "\n",
        "  🧴 Categorias como “Beleza e Saúde” e “Informática” lideram em volume de vendas e crescimento ao longo do tempo.\n",
        "\n",
        "  🚚 Diferenças logísticas significativas entre cidades, com prazos de entrega maiores fora do eixo Sudeste.\n",
        "\n",
        "  ⭐ Predomínio de avaliações positivas, mas com recorrentes reclamações sobre atrasos na entrega.\n",
        "\n",
        "  💰 Valor do Tempo de Vida do Cliente (LTV) concentrados no Sudeste, indicando regiões prioritárias para retenção e marketing.\n",
        "\n",
        "  🧾 Maioria dos vendedores é composta por pequenos lojistas, enquanto grandes vendedores, curiosamente, possuem prazos de entrega mais longos.\n",
        "\n",
        "Além dos resultados, o projeto reforça minha capacidade de:\n",
        "\n",
        "- Estruturar pipelines analíticos em SQL com CTEs reutilizáveis e lógicas otimizadas;\n",
        "\n",
        "- Traduzir consultas complexas em visualizações claras e interpretáveis;\n",
        "\n",
        "- Gerar insights estratégicos orientados a negócio — do comportamento de compra à eficiência operacional.\n",
        "\n",
        "Em resumo, este estudo combinou raciocínio analítico, domínio técnico e storytelling de dados, transformando o banco da Olist em uma narrativa visual e prática — exatamente o tipo de trabalho que une análise, negócios e impacto real."
      ],
      "metadata": {
        "id": "N8tzKSicsaS6"
      },
      "id": "N8tzKSicsaS6"
    }
  ],
  "metadata": {
    "kaggle": {
      "accelerator": "none",
      "dataSources": [
        {
          "datasetId": 78342,
          "sourceId": 179673,
          "sourceType": "datasetVersion"
        },
        {
          "datasetId": 55151,
          "sourceId": 2669146,
          "sourceType": "datasetVersion"
        },
        {
          "datasetId": 4898307,
          "sourceId": 8254419,
          "sourceType": "datasetVersion"
        }
      ],
      "dockerImageVersionId": 30698,
      "isGpuEnabled": false,
      "isInternetEnabled": true,
      "language": "python",
      "sourceType": "notebook"
    },
    "kernelspec": {
      "display_name": "Python 3",
      "language": "python",
      "name": "python3"
    },
    "language_info": {
      "codemirror_mode": {
        "name": "ipython",
        "version": 3
      },
      "file_extension": ".py",
      "mimetype": "text/x-python",
      "name": "python",
      "nbconvert_exporter": "python",
      "pygments_lexer": "ipython3",
      "version": "3.10.13"
    },
    "papermill": {
      "default_parameters": {},
      "duration": 201.109805,
      "end_time": "2024-04-29T15:35:20.705803",
      "environment_variables": {},
      "exception": null,
      "input_path": "__notebook__.ipynb",
      "output_path": "__notebook__.ipynb",
      "parameters": {},
      "start_time": "2024-04-29T15:31:59.595998",
      "version": "2.5.0"
    },
    "colab": {
      "provenance": []
    }
  },
  "nbformat": 4,
  "nbformat_minor": 5
}
